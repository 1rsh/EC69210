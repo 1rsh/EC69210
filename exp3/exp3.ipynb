{
  "cells": [
    {
      "cell_type": "markdown",
      "metadata": {
        "id": "gM1DI-v4zZUG"
      },
      "source": [
        "# **Experiment 3 | EC69210**\n",
        "****\n",
        "**Code Authors:** Irsh Vijay (21EC39055) and Aditya Raj (21EC39001)"
      ]
    },
    {
      "cell_type": "code",
      "execution_count": 1,
      "metadata": {
        "colab": {
          "base_uri": "https://localhost:8080/"
        },
        "id": "pHE27QU7WMkg",
        "outputId": "62ff57a6-bd81-4ece-9cb9-b15a53d862bc"
      },
      "outputs": [
        {
          "name": "stdout",
          "output_type": "stream",
          "text": [
            "Downloading...\n",
            "From: https://drive.google.com/uc?id=1imKGFVYLWmTbHMtFu1G70ezUb1ygKNc4\n",
            "To: /Users/irsh/Documents/workdir/ec69210/exp3/dataset.zip\n",
            "100%|██████████████████████████████████████| 4.40M/4.40M [00:00<00:00, 9.16MB/s]\n",
            "Archive:  dataset.zip\n",
            "  inflating: data/z-dimension.csv    \n",
            "  inflating: data/c7.png             \n",
            "  inflating: data/c8.png             \n",
            "  inflating: data/c9.png             \n",
            "  inflating: data/c6.png             \n",
            "  inflating: data/c3.png             \n",
            "  inflating: data/c1.png             \n",
            "  inflating: data/c5.png             \n",
            "  inflating: data/c2.png             \n",
            "  inflating: data/c4.png             \n"
          ]
        }
      ],
      "source": [
        "!gdown \"1imKGFVYLWmTbHMtFu1G70ezUb1ygKNc4\"\n",
        "!unzip \"dataset.zip\" -d \"data/\""
      ]
    },
    {
      "cell_type": "code",
      "execution_count": 1,
      "metadata": {
        "id": "kQIeZQBHW_sf"
      },
      "outputs": [],
      "source": [
        "import pandas as pd\n",
        "import numpy as np\n",
        "from PIL import Image\n",
        "import matplotlib.pyplot as plt"
      ]
    },
    {
      "cell_type": "code",
      "execution_count": 2,
      "metadata": {
        "colab": {
          "base_uri": "https://localhost:8080/",
          "height": 332
        },
        "id": "SCJURz8MjrTs",
        "outputId": "0d78b838-decb-4867-8eea-f50bcd14071d"
      },
      "outputs": [
        {
          "data": {
            "text/html": [
              "<div>\n",
              "<style scoped>\n",
              "    .dataframe tbody tr th:only-of-type {\n",
              "        vertical-align: middle;\n",
              "    }\n",
              "\n",
              "    .dataframe tbody tr th {\n",
              "        vertical-align: top;\n",
              "    }\n",
              "\n",
              "    .dataframe thead th {\n",
              "        text-align: right;\n",
              "    }\n",
              "</style>\n",
              "<table border=\"1\" class=\"dataframe\">\n",
              "  <thead>\n",
              "    <tr style=\"text-align: right;\">\n",
              "      <th></th>\n",
              "      <th>Image Name</th>\n",
              "      <th>Z-Cordinates (in mm)</th>\n",
              "    </tr>\n",
              "  </thead>\n",
              "  <tbody>\n",
              "    <tr>\n",
              "      <th>0</th>\n",
              "      <td>c1</td>\n",
              "      <td>400</td>\n",
              "    </tr>\n",
              "    <tr>\n",
              "      <th>1</th>\n",
              "      <td>c2</td>\n",
              "      <td>500</td>\n",
              "    </tr>\n",
              "    <tr>\n",
              "      <th>2</th>\n",
              "      <td>c3</td>\n",
              "      <td>600</td>\n",
              "    </tr>\n",
              "    <tr>\n",
              "      <th>3</th>\n",
              "      <td>c4</td>\n",
              "      <td>700</td>\n",
              "    </tr>\n",
              "    <tr>\n",
              "      <th>4</th>\n",
              "      <td>c5</td>\n",
              "      <td>800</td>\n",
              "    </tr>\n",
              "    <tr>\n",
              "      <th>5</th>\n",
              "      <td>c6</td>\n",
              "      <td>900</td>\n",
              "    </tr>\n",
              "    <tr>\n",
              "      <th>6</th>\n",
              "      <td>c7</td>\n",
              "      <td>1000</td>\n",
              "    </tr>\n",
              "    <tr>\n",
              "      <th>7</th>\n",
              "      <td>c8</td>\n",
              "      <td>1100</td>\n",
              "    </tr>\n",
              "    <tr>\n",
              "      <th>8</th>\n",
              "      <td>c9</td>\n",
              "      <td>1200</td>\n",
              "    </tr>\n",
              "  </tbody>\n",
              "</table>\n",
              "</div>"
            ],
            "text/plain": [
              "  Image Name  Z-Cordinates (in mm)\n",
              "0         c1                   400\n",
              "1         c2                   500\n",
              "2         c3                   600\n",
              "3         c4                   700\n",
              "4         c5                   800\n",
              "5         c6                   900\n",
              "6         c7                  1000\n",
              "7         c8                  1100\n",
              "8         c9                  1200"
            ]
          },
          "execution_count": 2,
          "metadata": {},
          "output_type": "execute_result"
        }
      ],
      "source": [
        "z_values = pd.read_csv('data/z-dimension.csv')\n",
        "z_values"
      ]
    },
    {
      "cell_type": "code",
      "execution_count": 3,
      "metadata": {
        "id": "V63ZX5RrX4wM"
      },
      "outputs": [],
      "source": [
        "class Imagette:\n",
        "  def __init__(self, file_path, z):\n",
        "    self.img, self.image = self._read_image(file_path)\n",
        "    self.z = z\n",
        "\n",
        "    corner1 = self._find_first_corner(self.img[:, :])\n",
        "    corner2 = self._find_first_corner(self.img[::-1, :])\n",
        "    corner3 = self._find_first_corner(self.img[::-1, ::-1])\n",
        "    corner4 = self._find_first_corner(self.img[:, ::-1])\n",
        "\n",
        "    self.uvs = (\n",
        "        corner1,\n",
        "        (1024-corner2[0], corner2[1]),\n",
        "        (1024-corner3[0], 1024-corner3[1]),\n",
        "        (corner4[0], 1024-corner4[1]),\n",
        "    )\n",
        "\n",
        "    self.XYZs = (\n",
        "        (0, 0, z),\n",
        "        (7*25, 0, z),\n",
        "        (7*25, 10*25, z),\n",
        "        (0, 10*25, z)\n",
        "    )\n",
        "\n",
        "    self.A = self._make_A_matrix(self.uvs, self.XYZs)\n",
        "\n",
        "  @staticmethod\n",
        "  def _read_image(file_path):\n",
        "    image = Image.open(file_path).convert('L')\n",
        "    img = np.asarray(image).astype(float)\n",
        "    return img, image\n",
        "\n",
        "  @staticmethod\n",
        "  def _find_first_corner(img):\n",
        "    prev_val = img[0, 0]\n",
        "\n",
        "    for i in range(img.shape[0]):\n",
        "      for j in range(img.shape[1]):\n",
        "        if abs(img[i, j] - prev_val) > 5:\n",
        "          return (i, j)\n",
        "        prev_val = img[i, j]\n",
        "\n",
        "  @staticmethod\n",
        "  def _make_A_matrix(uvs, XYZs):\n",
        "    A = np.zeros((8, 12))\n",
        "\n",
        "    for i in range(0, 8, 2):\n",
        "      A[i, 0:4] = [*XYZs[i//2], 1]\n",
        "      A[i+1, 4:8] = [*XYZs[i//2], 1]\n",
        "      A[i, 8:12] = [(-uvs[i//2][0]) * coord for coord in [*XYZs[i//2], 1]]\n",
        "      A[i+1, 8:12] = [(-uvs[i//2][1]) * coord for coord in [*XYZs[i//2], 1]]\n",
        "\n",
        "    return A\n",
        "\n",
        "  def plot(self):\n",
        "    plt.imshow(self.img, cmap='gray')\n",
        "\n",
        "  def plot_points(self, *points):\n",
        "    points = np.array(points).astype(int)\n",
        "    plt.scatter(points[:, 1], points[:, 0])"
      ]
    },
    {
      "cell_type": "code",
      "execution_count": 4,
      "metadata": {
        "id": "gWTm9ntyZMpT"
      },
      "outputs": [],
      "source": [
        "images = [\n",
        "    Imagette(f\"data/{row._1}.png\", row._2) for row in z_values.itertuples()\n",
        "    ]"
      ]
    },
    {
      "cell_type": "code",
      "execution_count": 5,
      "metadata": {
        "id": "7ia21Kx1jkIJ"
      },
      "outputs": [],
      "source": [
        "combined_A = np.vstack([im.A for im in images])"
      ]
    },
    {
      "cell_type": "code",
      "execution_count": 6,
      "metadata": {
        "colab": {
          "base_uri": "https://localhost:8080/"
        },
        "id": "b9rQObESztio",
        "outputId": "f4c9bdf1-eb35-4a59-e9ce-680e1fbc77ef"
      },
      "outputs": [
        {
          "data": {
            "text/plain": [
              "(72, 12)"
            ]
          },
          "execution_count": 6,
          "metadata": {},
          "output_type": "execute_result"
        }
      ],
      "source": [
        "combined_A.shape"
      ]
    },
    {
      "cell_type": "code",
      "execution_count": 7,
      "metadata": {
        "id": "Zmwr3u6Trh_u"
      },
      "outputs": [],
      "source": [
        "def SVD(A):\n",
        "  ATA = np.dot(A.T, A)\n",
        "  AAT = np.dot(A, A.T)\n",
        "\n",
        "  eigenvalues_ATA, eigenvectors_ATA = np.linalg.eig(ATA)\n",
        "  eigenvalues_AAT, eigenvectors_AAT = np.linalg.eig(AAT)\n",
        "\n",
        "  idx = eigenvalues_ATA.argsort()[::-1]\n",
        "  eigenvalues_ATA = eigenvalues_ATA[idx]\n",
        "  eigenvectors_ATA = eigenvectors_ATA[:, idx]\n",
        "\n",
        "  idx = eigenvalues_AAT.argsort()[::-1]\n",
        "  eigenvalues_AAT = eigenvalues_AAT[idx]\n",
        "  eigenvectors_AAT = eigenvectors_AAT[:, idx]\n",
        "\n",
        "  s = np.sqrt(eigenvalues_ATA)\n",
        "\n",
        "  U = eigenvectors_AAT\n",
        "  V = eigenvectors_ATA\n",
        "\n",
        "  return U, s, V"
      ]
    },
    {
      "cell_type": "code",
      "execution_count": 8,
      "metadata": {
        "colab": {
          "base_uri": "https://localhost:8080/"
        },
        "id": "EqwuJ52nwMNl",
        "outputId": "d5aa0479-d4f0-4f7a-96d7-199c8eaf55ad"
      },
      "outputs": [
        {
          "data": {
            "text/plain": [
              "array([[ 6.46152166e-03,  3.59453630e-07,  2.32767966e-03,\n",
              "        -5.66249125e-01],\n",
              "       [ 1.25094145e-07,  6.46069647e-03,  2.32723503e-03,\n",
              "        -8.24176924e-01],\n",
              "       [ 1.99908390e-10,  6.79771608e-10,  4.54622411e-06,\n",
              "        -1.68910327e-06]])"
            ]
          },
          "execution_count": 8,
          "metadata": {},
          "output_type": "execute_result"
        }
      ],
      "source": [
        "P = SVD(combined_A)[2][:, -1].reshape((3, 4))\n",
        "\n",
        "def projection(X, Y, Z):\n",
        "  point = np.array([X, Y, Z, 1])[..., np.newaxis]\n",
        "  p = P @ point\n",
        "  return tuple((p / p[-1])[:, 0][:2])\n",
        "\n",
        "P"
      ]
    },
    {
      "cell_type": "code",
      "execution_count": 9,
      "metadata": {
        "colab": {
          "base_uri": "https://localhost:8080/"
        },
        "id": "fuMRs_slwSS1",
        "outputId": "6960927f-7e8d-4777-dda1-2e9c6a8e2e2c"
      },
      "outputs": [
        {
          "name": "stdout",
          "output_type": "stream",
          "text": [
            "Point corresponding to world coordinate: (0, 0, 400) is really (201, 59)\n",
            "Estimated: (np.float64(200.80505869995582), np.float64(58.73902291350864))\n"
          ]
        }
      ],
      "source": [
        "print(f'Point corresponding to world coordinate: {images[0].XYZs[0]} is really {images[0].uvs[0]}')\n",
        "\n",
        "print(f\"Estimated: {projection(*images[0].XYZs[0])}\")"
      ]
    },
    {
      "cell_type": "code",
      "execution_count": 10,
      "metadata": {
        "id": "wZDhpzO8l0qx"
      },
      "outputs": [],
      "source": [
        "def check_projection(image, projection):\n",
        "  z = image.z\n",
        "  real_world_grid = [(i*25, j*25, z) for i in range(8) for j in range(11)]\n",
        "\n",
        "  image.plot()\n",
        "  image.plot_points(*[projection(*pt) for pt in real_world_grid])\n",
        "  image.plot_points(projection(3.5*25, 5*25, z))"
      ]
    },
    {
      "cell_type": "code",
      "execution_count": 11,
      "metadata": {
        "colab": {
          "base_uri": "https://localhost:8080/",
          "height": 435
        },
        "id": "olvbfkLVxojO",
        "outputId": "44c86631-b8dd-4b19-cd52-89a30f032cfd"
      },
      "outputs": [
        {
          "data": {
            "image/png": "[encoded data removed]",
            "text/plain": [
              "<Figure size 640x480 with 1 Axes>"
            ]
          },
          "metadata": {},
          "output_type": "display_data"
        }
      ],
      "source": [
        "check_projection(images[1], projection)"
      ]
    },
    {
      "cell_type": "markdown",
      "metadata": {},
      "source": [
        "Using QR Decomposition for `K` calculation\n",
        "| [Reference](https://www.youtube.com/watch?v=6TIVIw4B5VA&list=PLxKgD50sMRvBHxvNPnGQ1kEHlO5y7mSnh)"
      ]
    },
    {
      "cell_type": "code",
      "execution_count": 12,
      "metadata": {},
      "outputs": [],
      "source": [
        "from scipy.linalg import rq\n",
        "\n",
        "def compute_intrinsic_matrix(P):\n",
        "    # Extract the left 3x3 submatrix of P\n",
        "    M = P[:3, :3]\n",
        "    \n",
        "    # Perform RQ decomposition\n",
        "    K, R = rq(M)\n",
        "    \n",
        "    T = np.diag(np.sign(np.diag(K)))\n",
        "    K = K @ T\n",
        "    R = T @ R\n",
        "    \n",
        "    # Normalize K so that K[2, 2] = 1\n",
        "    K = K / K[2, 2]\n",
        "    \n",
        "    return K, R"
      ]
    },
    {
      "cell_type": "code",
      "execution_count": 13,
      "metadata": {},
      "outputs": [],
      "source": [
        "K, R = compute_intrinsic_matrix(P)"
      ]
    },
    {
      "cell_type": "code",
      "execution_count": 14,
      "metadata": {},
      "outputs": [
        {
          "data": {
            "text/plain": [
              "array([[1.42127160e+03, 7.50731937e-03, 5.12065338e+02],\n",
              "       [0.00000000e+00, 1.42103605e+03, 5.12117519e+02],\n",
              "       [0.00000000e+00, 0.00000000e+00, 1.00000000e+00]])"
            ]
          },
          "execution_count": 14,
          "metadata": {},
          "output_type": "execute_result"
        }
      ],
      "source": [
        "K"
      ]
    },
    {
      "cell_type": "code",
      "execution_count": null,
      "metadata": {},
      "outputs": [],
      "source": []
    }
  ],
  "metadata": {
    "colab": {
      "provenance": []
    },
    "kernelspec": {
      "display_name": ".venv",
      "language": "python",
      "name": "python3"
    },
    "language_info": {
      "codemirror_mode": {
        "name": "ipython",
        "version": 3
      },
      "file_extension": ".py",
      "mimetype": "text/x-python",
      "name": "python",
      "nbconvert_exporter": "python",
      "pygments_lexer": "ipython3",
      "version": "3.12.6"
    }
  },
  "nbformat": 4,
  "nbformat_minor": 0
}
