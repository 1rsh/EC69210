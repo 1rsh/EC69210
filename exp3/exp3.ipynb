{
  "nbformat": 4,
  "nbformat_minor": 0,
  "metadata": {
    "colab": {
      "provenance": []
    },
    "kernelspec": {
      "name": "python3",
      "display_name": "Python 3"
    },
    "language_info": {
      "name": "python"
    }
  },
  "cells": [
    {
      "cell_type": "markdown",
      "source": [
        "# **Experiment 3 | EC69210**\n",
        "****\n",
        "**Code Authors:** Irsh Vijay (21EC39055) and Aditya Raj (21EC39001)"
      ],
      "metadata": {
        "id": "gM1DI-v4zZUG"
      }
    },
    {
      "cell_type": "code",
      "execution_count": null,
      "metadata": {
        "colab": {
          "base_uri": "https://localhost:8080/"
        },
        "id": "pHE27QU7WMkg",
        "outputId": "62ff57a6-bd81-4ece-9cb9-b15a53d862bc"
      },
      "outputs": [
        {
          "output_type": "stream",
          "name": "stdout",
          "text": [
            "Downloading...\n",
            "From: https://drive.google.com/uc?id=1imKGFVYLWmTbHMtFu1G70ezUb1ygKNc4\n",
            "To: /content/dataset.zip\n",
            "100% 4.40M/4.40M [00:00<00:00, 25.4MB/s]\n",
            "Archive:  dataset.zip\n",
            "  inflating: data/z-dimension.csv    \n",
            "  inflating: data/c7.png             \n",
            "  inflating: data/c8.png             \n",
            "  inflating: data/c9.png             \n",
            "  inflating: data/c6.png             \n",
            "  inflating: data/c3.png             \n",
            "  inflating: data/c1.png             \n",
            "  inflating: data/c5.png             \n",
            "  inflating: data/c2.png             \n",
            "  inflating: data/c4.png             \n"
          ]
        }
      ],
      "source": [
        "!gdown \"1imKGFVYLWmTbHMtFu1G70ezUb1ygKNc4\"\n",
        "!unzip \"dataset.zip\" -d \"data/\""
      ]
    },
    {
      "cell_type": "code",
      "source": [
        "import pandas as pd\n",
        "import numpy as np\n",
        "from PIL import Image\n",
        "import matplotlib.pyplot as plt"
      ],
      "metadata": {
        "id": "kQIeZQBHW_sf"
      },
      "execution_count": null,
      "outputs": []
    },
    {
      "cell_type": "code",
      "source": [
        "z_values = pd.read_csv('data/z-dimension.csv')\n",
        "z_values"
      ],
      "metadata": {
        "colab": {
          "base_uri": "https://localhost:8080/",
          "height": 332
        },
        "id": "SCJURz8MjrTs",
        "outputId": "0d78b838-decb-4867-8eea-f50bcd14071d"
      },
      "execution_count": null,
      "outputs": [
        {
          "output_type": "execute_result",
          "data": {
            "text/plain": [
              "  Image Name  Z-Cordinates (in mm)\n",
              "0         c1                   400\n",
              "1         c2                   500\n",
              "2         c3                   600\n",
              "3         c4                   700\n",
              "4         c5                   800\n",
              "5         c6                   900\n",
              "6         c7                  1000\n",
              "7         c8                  1100\n",
              "8         c9                  1200"
            ],
            "text/html": [
              "\n",
              "  <div id=\"df-362914cd-93c9-45e5-a608-9cdb9dc4f007\" class=\"colab-df-container\">\n",
              "    <div>\n",
              "<style scoped>\n",
              "    .dataframe tbody tr th:only-of-type {\n",
              "        vertical-align: middle;\n",
              "    }\n",
              "\n",
              "    .dataframe tbody tr th {\n",
              "        vertical-align: top;\n",
              "    }\n",
              "\n",
              "    .dataframe thead th {\n",
              "        text-align: right;\n",
              "    }\n",
              "</style>\n",
              "<table border=\"1\" class=\"dataframe\">\n",
              "  <thead>\n",
              "    <tr style=\"text-align: right;\">\n",
              "      <th></th>\n",
              "      <th>Image Name</th>\n",
              "      <th>Z-Cordinates (in mm)</th>\n",
              "    </tr>\n",
              "  </thead>\n",
              "  <tbody>\n",
              "    <tr>\n",
              "      <th>0</th>\n",
              "      <td>c1</td>\n",
              "      <td>400</td>\n",
              "    </tr>\n",
              "    <tr>\n",
              "      <th>1</th>\n",
              "      <td>c2</td>\n",
              "      <td>500</td>\n",
              "    </tr>\n",
              "    <tr>\n",
              "      <th>2</th>\n",
              "      <td>c3</td>\n",
              "      <td>600</td>\n",
              "    </tr>\n",
              "    <tr>\n",
              "      <th>3</th>\n",
              "      <td>c4</td>\n",
              "      <td>700</td>\n",
              "    </tr>\n",
              "    <tr>\n",
              "      <th>4</th>\n",
              "      <td>c5</td>\n",
              "      <td>800</td>\n",
              "    </tr>\n",
              "    <tr>\n",
              "      <th>5</th>\n",
              "      <td>c6</td>\n",
              "      <td>900</td>\n",
              "    </tr>\n",
              "    <tr>\n",
              "      <th>6</th>\n",
              "      <td>c7</td>\n",
              "      <td>1000</td>\n",
              "    </tr>\n",
              "    <tr>\n",
              "      <th>7</th>\n",
              "      <td>c8</td>\n",
              "      <td>1100</td>\n",
              "    </tr>\n",
              "    <tr>\n",
              "      <th>8</th>\n",
              "      <td>c9</td>\n",
              "      <td>1200</td>\n",
              "    </tr>\n",
              "  </tbody>\n",
              "</table>\n",
              "</div>\n",
              "    <div class=\"colab-df-buttons\">\n",
              "\n",
              "  <div class=\"colab-df-container\">\n",
              "    <button class=\"colab-df-convert\" onclick=\"convertToInteractive('df-362914cd-93c9-45e5-a608-9cdb9dc4f007')\"\n",
              "            title=\"Convert this dataframe to an interactive table.\"\n",
              "            style=\"display:none;\">\n",
              "\n",
              "  <svg xmlns=\"http://www.w3.org/2000/svg\" height=\"24px\" viewBox=\"0 -960 960 960\">\n",
              "    <path d=\"M120-120v-720h720v720H120Zm60-500h600v-160H180v160Zm220 220h160v-160H400v160Zm0 220h160v-160H400v160ZM180-400h160v-160H180v160Zm440 0h160v-160H620v160ZM180-180h160v-160H180v160Zm440 0h160v-160H620v160Z\"/>\n",
              "  </svg>\n",
              "    </button>\n",
              "\n",
              "  <style>\n",
              "    .colab-df-container {\n",
              "      display:flex;\n",
              "      gap: 12px;\n",
              "    }\n",
              "\n",
              "    .colab-df-convert {\n",
              "      background-color: #E8F0FE;\n",
              "      border: none;\n",
              "      border-radius: 50%;\n",
              "      cursor: pointer;\n",
              "      display: none;\n",
              "      fill: #1967D2;\n",
              "      height: 32px;\n",
              "      padding: 0 0 0 0;\n",
              "      width: 32px;\n",
              "    }\n",
              "\n",
              "    .colab-df-convert:hover {\n",
              "      background-color: #E2EBFA;\n",
              "      box-shadow: 0px 1px 2px rgba(60, 64, 67, 0.3), 0px 1px 3px 1px rgba(60, 64, 67, 0.15);\n",
              "      fill: #174EA6;\n",
              "    }\n",
              "\n",
              "    .colab-df-buttons div {\n",
              "      margin-bottom: 4px;\n",
              "    }\n",
              "\n",
              "    [theme=dark] .colab-df-convert {\n",
              "      background-color: #3B4455;\n",
              "      fill: #D2E3FC;\n",
              "    }\n",
              "\n",
              "    [theme=dark] .colab-df-convert:hover {\n",
              "      background-color: #434B5C;\n",
              "      box-shadow: 0px 1px 3px 1px rgba(0, 0, 0, 0.15);\n",
              "      filter: drop-shadow(0px 1px 2px rgba(0, 0, 0, 0.3));\n",
              "      fill: #FFFFFF;\n",
              "    }\n",
              "  </style>\n",
              "\n",
              "    <script>\n",
              "      const buttonEl =\n",
              "        document.querySelector('#df-362914cd-93c9-45e5-a608-9cdb9dc4f007 button.colab-df-convert');\n",
              "      buttonEl.style.display =\n",
              "        google.colab.kernel.accessAllowed ? 'block' : 'none';\n",
              "\n",
              "      async function convertToInteractive(key) {\n",
              "        const element = document.querySelector('#df-362914cd-93c9-45e5-a608-9cdb9dc4f007');\n",
              "        const dataTable =\n",
              "          await google.colab.kernel.invokeFunction('convertToInteractive',\n",
              "                                                    [key], {});\n",
              "        if (!dataTable) return;\n",
              "\n",
              "        const docLinkHtml = 'Like what you see? Visit the ' +\n",
              "          '<a target=\"_blank\" href=https://colab.research.google.com/notebooks/data_table.ipynb>data table notebook</a>'\n",
              "          + ' to learn more about interactive tables.';\n",
              "        element.innerHTML = '';\n",
              "        dataTable['output_type'] = 'display_data';\n",
              "        await google.colab.output.renderOutput(dataTable, element);\n",
              "        const docLink = document.createElement('div');\n",
              "        docLink.innerHTML = docLinkHtml;\n",
              "        element.appendChild(docLink);\n",
              "      }\n",
              "    </script>\n",
              "  </div>\n",
              "\n",
              "\n",
              "<div id=\"df-39e77b3f-d279-4337-affd-4ba48b32e900\">\n",
              "  <button class=\"colab-df-quickchart\" onclick=\"quickchart('df-39e77b3f-d279-4337-affd-4ba48b32e900')\"\n",
              "            title=\"Suggest charts\"\n",
              "            style=\"display:none;\">\n",
              "\n",
              "<svg xmlns=\"http://www.w3.org/2000/svg\" height=\"24px\"viewBox=\"0 0 24 24\"\n",
              "     width=\"24px\">\n",
              "    <g>\n",
              "        <path d=\"M19 3H5c-1.1 0-2 .9-2 2v14c0 1.1.9 2 2 2h14c1.1 0 2-.9 2-2V5c0-1.1-.9-2-2-2zM9 17H7v-7h2v7zm4 0h-2V7h2v10zm4 0h-2v-4h2v4z\"/>\n",
              "    </g>\n",
              "</svg>\n",
              "  </button>\n",
              "\n",
              "<style>\n",
              "  .colab-df-quickchart {\n",
              "      --bg-color: #E8F0FE;\n",
              "      --fill-color: #1967D2;\n",
              "      --hover-bg-color: #E2EBFA;\n",
              "      --hover-fill-color: #174EA6;\n",
              "      --disabled-fill-color: #AAA;\n",
              "      --disabled-bg-color: #DDD;\n",
              "  }\n",
              "\n",
              "  [theme=dark] .colab-df-quickchart {\n",
              "      --bg-color: #3B4455;\n",
              "      --fill-color: #D2E3FC;\n",
              "      --hover-bg-color: #434B5C;\n",
              "      --hover-fill-color: #FFFFFF;\n",
              "      --disabled-bg-color: #3B4455;\n",
              "      --disabled-fill-color: #666;\n",
              "  }\n",
              "\n",
              "  .colab-df-quickchart {\n",
              "    background-color: var(--bg-color);\n",
              "    border: none;\n",
              "    border-radius: 50%;\n",
              "    cursor: pointer;\n",
              "    display: none;\n",
              "    fill: var(--fill-color);\n",
              "    height: 32px;\n",
              "    padding: 0;\n",
              "    width: 32px;\n",
              "  }\n",
              "\n",
              "  .colab-df-quickchart:hover {\n",
              "    background-color: var(--hover-bg-color);\n",
              "    box-shadow: 0 1px 2px rgba(60, 64, 67, 0.3), 0 1px 3px 1px rgba(60, 64, 67, 0.15);\n",
              "    fill: var(--button-hover-fill-color);\n",
              "  }\n",
              "\n",
              "  .colab-df-quickchart-complete:disabled,\n",
              "  .colab-df-quickchart-complete:disabled:hover {\n",
              "    background-color: var(--disabled-bg-color);\n",
              "    fill: var(--disabled-fill-color);\n",
              "    box-shadow: none;\n",
              "  }\n",
              "\n",
              "  .colab-df-spinner {\n",
              "    border: 2px solid var(--fill-color);\n",
              "    border-color: transparent;\n",
              "    border-bottom-color: var(--fill-color);\n",
              "    animation:\n",
              "      spin 1s steps(1) infinite;\n",
              "  }\n",
              "\n",
              "  @keyframes spin {\n",
              "    0% {\n",
              "      border-color: transparent;\n",
              "      border-bottom-color: var(--fill-color);\n",
              "      border-left-color: var(--fill-color);\n",
              "    }\n",
              "    20% {\n",
              "      border-color: transparent;\n",
              "      border-left-color: var(--fill-color);\n",
              "      border-top-color: var(--fill-color);\n",
              "    }\n",
              "    30% {\n",
              "      border-color: transparent;\n",
              "      border-left-color: var(--fill-color);\n",
              "      border-top-color: var(--fill-color);\n",
              "      border-right-color: var(--fill-color);\n",
              "    }\n",
              "    40% {\n",
              "      border-color: transparent;\n",
              "      border-right-color: var(--fill-color);\n",
              "      border-top-color: var(--fill-color);\n",
              "    }\n",
              "    60% {\n",
              "      border-color: transparent;\n",
              "      border-right-color: var(--fill-color);\n",
              "    }\n",
              "    80% {\n",
              "      border-color: transparent;\n",
              "      border-right-color: var(--fill-color);\n",
              "      border-bottom-color: var(--fill-color);\n",
              "    }\n",
              "    90% {\n",
              "      border-color: transparent;\n",
              "      border-bottom-color: var(--fill-color);\n",
              "    }\n",
              "  }\n",
              "</style>\n",
              "\n",
              "  <script>\n",
              "    async function quickchart(key) {\n",
              "      const quickchartButtonEl =\n",
              "        document.querySelector('#' + key + ' button');\n",
              "      quickchartButtonEl.disabled = true;  // To prevent multiple clicks.\n",
              "      quickchartButtonEl.classList.add('colab-df-spinner');\n",
              "      try {\n",
              "        const charts = await google.colab.kernel.invokeFunction(\n",
              "            'suggestCharts', [key], {});\n",
              "      } catch (error) {\n",
              "        console.error('Error during call to suggestCharts:', error);\n",
              "      }\n",
              "      quickchartButtonEl.classList.remove('colab-df-spinner');\n",
              "      quickchartButtonEl.classList.add('colab-df-quickchart-complete');\n",
              "    }\n",
              "    (() => {\n",
              "      let quickchartButtonEl =\n",
              "        document.querySelector('#df-39e77b3f-d279-4337-affd-4ba48b32e900 button');\n",
              "      quickchartButtonEl.style.display =\n",
              "        google.colab.kernel.accessAllowed ? 'block' : 'none';\n",
              "    })();\n",
              "  </script>\n",
              "</div>\n",
              "\n",
              "  <div id=\"id_8c58fc0a-b2cb-4a92-bca4-c5bb8c256054\">\n",
              "    <style>\n",
              "      .colab-df-generate {\n",
              "        background-color: #E8F0FE;\n",
              "        border: none;\n",
              "        border-radius: 50%;\n",
              "        cursor: pointer;\n",
              "        display: none;\n",
              "        fill: #1967D2;\n",
              "        height: 32px;\n",
              "        padding: 0 0 0 0;\n",
              "        width: 32px;\n",
              "      }\n",
              "\n",
              "      .colab-df-generate:hover {\n",
              "        background-color: #E2EBFA;\n",
              "        box-shadow: 0px 1px 2px rgba(60, 64, 67, 0.3), 0px 1px 3px 1px rgba(60, 64, 67, 0.15);\n",
              "        fill: #174EA6;\n",
              "      }\n",
              "\n",
              "      [theme=dark] .colab-df-generate {\n",
              "        background-color: #3B4455;\n",
              "        fill: #D2E3FC;\n",
              "      }\n",
              "\n",
              "      [theme=dark] .colab-df-generate:hover {\n",
              "        background-color: #434B5C;\n",
              "        box-shadow: 0px 1px 3px 1px rgba(0, 0, 0, 0.15);\n",
              "        filter: drop-shadow(0px 1px 2px rgba(0, 0, 0, 0.3));\n",
              "        fill: #FFFFFF;\n",
              "      }\n",
              "    </style>\n",
              "    <button class=\"colab-df-generate\" onclick=\"generateWithVariable('z_values')\"\n",
              "            title=\"Generate code using this dataframe.\"\n",
              "            style=\"display:none;\">\n",
              "\n",
              "  <svg xmlns=\"http://www.w3.org/2000/svg\" height=\"24px\"viewBox=\"0 0 24 24\"\n",
              "       width=\"24px\">\n",
              "    <path d=\"M7,19H8.4L18.45,9,17,7.55,7,17.6ZM5,21V16.75L18.45,3.32a2,2,0,0,1,2.83,0l1.4,1.43a1.91,1.91,0,0,1,.58,1.4,1.91,1.91,0,0,1-.58,1.4L9.25,21ZM18.45,9,17,7.55Zm-12,3A5.31,5.31,0,0,0,4.9,8.1,5.31,5.31,0,0,0,1,6.5,5.31,5.31,0,0,0,4.9,4.9,5.31,5.31,0,0,0,6.5,1,5.31,5.31,0,0,0,8.1,4.9,5.31,5.31,0,0,0,12,6.5,5.46,5.46,0,0,0,6.5,12Z\"/>\n",
              "  </svg>\n",
              "    </button>\n",
              "    <script>\n",
              "      (() => {\n",
              "      const buttonEl =\n",
              "        document.querySelector('#id_8c58fc0a-b2cb-4a92-bca4-c5bb8c256054 button.colab-df-generate');\n",
              "      buttonEl.style.display =\n",
              "        google.colab.kernel.accessAllowed ? 'block' : 'none';\n",
              "\n",
              "      buttonEl.onclick = () => {\n",
              "        google.colab.notebook.generateWithVariable('z_values');\n",
              "      }\n",
              "      })();\n",
              "    </script>\n",
              "  </div>\n",
              "\n",
              "    </div>\n",
              "  </div>\n"
            ],
            "application/vnd.google.colaboratory.intrinsic+json": {
              "type": "dataframe",
              "variable_name": "z_values",
              "summary": "{\n  \"name\": \"z_values\",\n  \"rows\": 9,\n  \"fields\": [\n    {\n      \"column\": \"Image Name\",\n      \"properties\": {\n        \"dtype\": \"string\",\n        \"num_unique_values\": 9,\n        \"samples\": [\n          \"c8\",\n          \"c2\",\n          \"c6\"\n        ],\n        \"semantic_type\": \"\",\n        \"description\": \"\"\n      }\n    },\n    {\n      \"column\": \"Z-Cordinates (in mm)\",\n      \"properties\": {\n        \"dtype\": \"number\",\n        \"std\": 273,\n        \"min\": 400,\n        \"max\": 1200,\n        \"num_unique_values\": 9,\n        \"samples\": [\n          1100,\n          500,\n          900\n        ],\n        \"semantic_type\": \"\",\n        \"description\": \"\"\n      }\n    }\n  ]\n}"
            }
          },
          "metadata": {},
          "execution_count": 4
        }
      ]
    },
    {
      "cell_type": "code",
      "source": [
        "class Imagette:\n",
        "  def __init__(self, file_path, z):\n",
        "    self.img, self.image = self._read_image(file_path)\n",
        "    self.z = z\n",
        "\n",
        "    corner1 = self._find_first_corner(self.img[:, :])\n",
        "    corner2 = self._find_first_corner(self.img[::-1, :])\n",
        "    corner3 = self._find_first_corner(self.img[::-1, ::-1])\n",
        "    corner4 = self._find_first_corner(self.img[:, ::-1])\n",
        "\n",
        "    self.uvs = (\n",
        "        corner1,\n",
        "        (1024-corner2[0], corner2[1]),\n",
        "        (1024-corner3[0], 1024-corner3[1]),\n",
        "        (corner4[0], 1024-corner4[1]),\n",
        "    )\n",
        "\n",
        "    self.XYZs = (\n",
        "        (0, 0, z),\n",
        "        (7*25, 0, z),\n",
        "        (7*25, 10*25, z),\n",
        "        (0, 10*25, z)\n",
        "    )\n",
        "\n",
        "    self.A = self._make_A_matrix(self.uvs, self.XYZs)\n",
        "\n",
        "  @staticmethod\n",
        "  def _read_image(file_path):\n",
        "    image = Image.open(file_path).convert('L')\n",
        "    img = np.asarray(image).astype(float)\n",
        "    return img, image\n",
        "\n",
        "  @staticmethod\n",
        "  def _find_first_corner(img):\n",
        "    prev_val = img[0, 0]\n",
        "\n",
        "    for i in range(img.shape[0]):\n",
        "      for j in range(img.shape[1]):\n",
        "        if abs(img[i, j] - prev_val) > 5:\n",
        "          return (i, j)\n",
        "        prev_val = img[i, j]\n",
        "\n",
        "  @staticmethod\n",
        "  def _make_A_matrix(uvs, XYZs):\n",
        "    A = np.zeros((8, 12))\n",
        "\n",
        "    for i in range(0, 8, 2):\n",
        "      A[i, 0:4] = [*XYZs[i//2], 1]\n",
        "      A[i+1, 4:8] = [*XYZs[i//2], 1]\n",
        "      A[i, 8:12] = [(-uvs[i//2][0]) * coord for coord in [*XYZs[i//2], 1]]\n",
        "      A[i+1, 8:12] = [(-uvs[i//2][1]) * coord for coord in [*XYZs[i//2], 1]]\n",
        "\n",
        "    return A\n",
        "\n",
        "  def plot(self):\n",
        "    plt.imshow(self.img, cmap='gray')\n",
        "\n",
        "  def plot_points(self, *points):\n",
        "    points = np.array(points).astype(int)\n",
        "    plt.scatter(points[:, 1], points[:, 0])"
      ],
      "metadata": {
        "id": "V63ZX5RrX4wM"
      },
      "execution_count": null,
      "outputs": []
    },
    {
      "cell_type": "code",
      "source": [
        "images = [\n",
        "    Imagette(f\"data/{row._1}.png\", row._2) for row in z_values.itertuples()\n",
        "    ]"
      ],
      "metadata": {
        "id": "gWTm9ntyZMpT"
      },
      "execution_count": null,
      "outputs": []
    },
    {
      "cell_type": "code",
      "source": [
        "combined_A = np.vstack([im.A for im in images])"
      ],
      "metadata": {
        "id": "7ia21Kx1jkIJ"
      },
      "execution_count": null,
      "outputs": []
    },
    {
      "cell_type": "code",
      "source": [
        "combined_A.shape"
      ],
      "metadata": {
        "colab": {
          "base_uri": "https://localhost:8080/"
        },
        "id": "b9rQObESztio",
        "outputId": "f4c9bdf1-eb35-4a59-e9ce-680e1fbc77ef"
      },
      "execution_count": null,
      "outputs": [
        {
          "output_type": "execute_result",
          "data": {
            "text/plain": [
              "(72, 12)"
            ]
          },
          "metadata": {},
          "execution_count": 52
        }
      ]
    },
    {
      "cell_type": "code",
      "source": [
        "def SVD(A):\n",
        "  ATA = np.dot(A.T, A)\n",
        "  AAT = np.dot(A, A.T)\n",
        "\n",
        "  eigenvalues_ATA, eigenvectors_ATA = np.linalg.eig(ATA)\n",
        "  eigenvalues_AAT, eigenvectors_AAT = np.linalg.eig(AAT)\n",
        "\n",
        "  idx = eigenvalues_ATA.argsort()[::-1]\n",
        "  eigenvalues_ATA = eigenvalues_ATA[idx]\n",
        "  eigenvectors_ATA = eigenvectors_ATA[:, idx]\n",
        "\n",
        "  idx = eigenvalues_AAT.argsort()[::-1]\n",
        "  eigenvalues_AAT = eigenvalues_AAT[idx]\n",
        "  eigenvectors_AAT = eigenvectors_AAT[:, idx]\n",
        "\n",
        "  s = np.sqrt(eigenvalues_ATA)\n",
        "\n",
        "  U = eigenvectors_AAT\n",
        "  V = eigenvectors_ATA\n",
        "\n",
        "  return U, s, V"
      ],
      "metadata": {
        "id": "Zmwr3u6Trh_u"
      },
      "execution_count": null,
      "outputs": []
    },
    {
      "cell_type": "code",
      "source": [
        "P = SVD(combined_A)[2][:, -1].reshape((3, 4))\n",
        "\n",
        "def projection(X, Y, Z):\n",
        "  point = np.array([X, Y, Z, 1])[..., np.newaxis]\n",
        "  p = P @ point\n",
        "  return tuple((p / p[-1])[:, 0][:2])\n",
        "\n",
        "P"
      ],
      "metadata": {
        "colab": {
          "base_uri": "https://localhost:8080/"
        },
        "id": "EqwuJ52nwMNl",
        "outputId": "d5aa0479-d4f0-4f7a-96d7-199c8eaf55ad"
      },
      "execution_count": null,
      "outputs": [
        {
          "output_type": "execute_result",
          "data": {
            "text/plain": [
              "array([[ 6.46152170e-03,  3.59332938e-07,  2.32767966e-03,\n",
              "        -5.66249106e-01],\n",
              "       [ 1.25123620e-07,  6.46069639e-03,  2.32723505e-03,\n",
              "        -8.24176937e-01],\n",
              "       [ 1.99952463e-10,  6.79564127e-10,  4.54622413e-06,\n",
              "        -1.68908232e-06]])"
            ]
          },
          "metadata": {},
          "execution_count": 54
        }
      ]
    },
    {
      "cell_type": "code",
      "source": [
        "print(f'Point corresponding to world coordinate: {images[0].XYZs[0]} is really {images[0].uvs[0]}')\n",
        "\n",
        "print(f\"Estimated: {projection(*images[0].XYZs[0])}\")"
      ],
      "metadata": {
        "colab": {
          "base_uri": "https://localhost:8080/"
        },
        "id": "fuMRs_slwSS1",
        "outputId": "6960927f-7e8d-4777-dda1-2e9c6a8e2e2c"
      },
      "execution_count": null,
      "outputs": [
        {
          "output_type": "stream",
          "name": "stdout",
          "text": [
            "Point corresponding to world coordinate: (0, 0, 400) is really (201, 59)\n",
            "Estimated: (200.80506598519517, 58.73902002898907)\n"
          ]
        }
      ]
    },
    {
      "cell_type": "code",
      "source": [
        "def check_projection(image, projection):\n",
        "  z = image.z\n",
        "  real_world_grid = [(i*25, j*25, z) for i in range(8) for j in range(11)]\n",
        "\n",
        "  image.plot()\n",
        "  image.plot_points(*[projection(*pt) for pt in real_world_grid])\n",
        "  image.plot_points(projection(3.5*25, 5*25, z))"
      ],
      "metadata": {
        "id": "wZDhpzO8l0qx"
      },
      "execution_count": null,
      "outputs": []
    },
    {
      "cell_type": "code",
      "source": [
        "check_projection(images[1], projection)"
      ],
      "metadata": {
        "id": "olvbfkLVxojO",
        "colab": {
          "base_uri": "https://localhost:8080/",
          "height": 435
        },
        "outputId": "44c86631-b8dd-4b19-cd52-89a30f032cfd"
      },
      "execution_count": null,
      "outputs": [
        {
          "output_type": "display_data",
          "data": {
            "text/plain": [
              "<Figure size 640x480 with 1 Axes>"
            ],
            "image/png": "[encoded data removed]"
          },
          "metadata": {}
        }
      ]
    },
    {
      "cell_type": "code",
      "source": [],
      "metadata": {
        "id": "ZhDLt_pdqLm3"
      },
      "execution_count": null,
      "outputs": []
    }
  ]
}