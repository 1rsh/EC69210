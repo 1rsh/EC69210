{
  "nbformat": 4,
  "nbformat_minor": 0,
  "metadata": {
    "colab": {
      "provenance": [],
      "gpuType": "T4",
      "collapsed_sections": [
        "s996tH3hMEVr",
        "WQ3invEbMJ6X",
        "xxf-hhbWMMPP",
        "eJg2ROoEMTwn",
        "KM6M8UN9MYWY",
        "q_YRL0lBMkgX",
        "q4eRhVEVSKV8",
        "YBMavXDWnUgQ"
      ]
    },
    "kernelspec": {
      "name": "python3",
      "display_name": "Python 3"
    },
    "language_info": {
      "name": "python"
    },
    "accelerator": "GPU"
  },
  "cells": [
    {
      "cell_type": "markdown",
      "source": [
        "# **Experiment 2b | EC69210**\n",
        "**Code Authors:** Irsh Vijay (21EC39055) and Aditya Raj (21EC39001) \\"
      ],
      "metadata": {
        "id": "DwsJ_aZ0XM-8"
      }
    },
    {
      "cell_type": "markdown",
      "source": [
        "## Mandatory Imports"
      ],
      "metadata": {
        "id": "s996tH3hMEVr"
      }
    },
    {
      "cell_type": "code",
      "execution_count": null,
      "metadata": {
        "id": "7VNRmDZfrEMd"
      },
      "outputs": [],
      "source": [
        "import torch\n",
        "import torch.nn as nn\n",
        "import torch.optim as optim\n",
        "import torch.nn.functional as F\n",
        "import torchvision\n",
        "import torchvision.transforms as T\n",
        "from torch.utils.data import Subset, DataLoader\n",
        "\n",
        "from IPython.display import display, clear_output\n",
        "import numpy as np\n",
        "import pandas as pd\n",
        "import matplotlib.pyplot as plt\n",
        "import yaml\n",
        "import random\n",
        "from tqdm import tqdm\n",
        "import os\n",
        "from PIL import Image"
      ]
    },
    {
      "cell_type": "markdown",
      "source": [
        "## Utils"
      ],
      "metadata": {
        "id": "WQ3invEbMJ6X"
      }
    },
    {
      "cell_type": "code",
      "source": [
        "# Config\n",
        "\n",
        "class RunConfig:\n",
        "    def __init__(self, config_path=\"config.yaml\"):\n",
        "        with open(config_path, \"r\") as file:\n",
        "            content = yaml.safe_load(file)\n",
        "        self.__dict__.update(content)\n",
        "\n",
        "    def __repr__(self):\n",
        "        return yaml.dump(self.__dict__)"
      ],
      "metadata": {
        "id": "BNBI8opErVoZ"
      },
      "execution_count": null,
      "outputs": []
    },
    {
      "cell_type": "code",
      "source": [
        "# Logging Utils\n",
        "\n",
        "class MyLogger:\n",
        "    def __init__(self):\n",
        "        self.cached_df = None\n",
        "\n",
        "    def log_metrics(self, dictionary, index_key=\"epoch\"):\n",
        "        clear_output(wait=True)\n",
        "\n",
        "        if self.cached_df is not None:\n",
        "            oncoming = pd.DataFrame.from_records([dictionary])\n",
        "            if index_key in oncoming.columns:\n",
        "                oncoming = oncoming.set_index(index_key)\n",
        "            self.cached_df = pd.concat([self.cached_df, oncoming])\n",
        "        else:\n",
        "            self.cached_df = pd.DataFrame.from_records([dictionary])\n",
        "\n",
        "        if index_key in self.cached_df.columns:\n",
        "            self.cached_df = self.cached_df.set_index(index_key)\n",
        "        display(self.cached_df)\n",
        "\n",
        "    def plot_run(self, keys=None, log=False):\n",
        "        if keys is None:\n",
        "            keys = self.cached_df.columns\n",
        "\n",
        "        for key in keys:\n",
        "            plt.plot(self.cached_df[key], label=key)\n",
        "\n",
        "        if log:\n",
        "            plt.yscale(\"log\")\n",
        "        plt.legend()\n",
        "        plt.show()"
      ],
      "metadata": {
        "id": "rYpVu0PlsTOF"
      },
      "execution_count": null,
      "outputs": []
    },
    {
      "cell_type": "code",
      "source": [
        "def set_global_seed(seed):\n",
        "    random.seed(seed)\n",
        "    torch.manual_seed(seed)\n",
        "\n",
        "set_global_seed(42)"
      ],
      "metadata": {
        "id": "RPRSSRnxrrkm"
      },
      "execution_count": null,
      "outputs": []
    },
    {
      "cell_type": "code",
      "source": [
        "def show_image_samples(dataset, idx2class=None):\n",
        "    sampled = random.sample(range(len(dataset)), 9)\n",
        "    sampled = [(dataset[i][0], dataset[i][1]) for i in sampled]\n",
        "    fig, axs = plt.subplots(3, 3)\n",
        "    plt.suptitle('Sample Images')\n",
        "    for i, (img, label) in enumerate(sampled):\n",
        "        ax = axs[i // 3, i % 3]\n",
        "        ax.imshow(img.permute(1, 2, 0).squeeze(), cmap='gray')\n",
        "        if idx2class:\n",
        "            label = idx2class[label]\n",
        "        ax.set_title(label)\n",
        "        ax.axis('off')"
      ],
      "metadata": {
        "id": "KpTVbyp5sVXo"
      },
      "execution_count": null,
      "outputs": []
    },
    {
      "cell_type": "code",
      "source": [
        "# For Explainability\n",
        "\n",
        "class GradCAM:\n",
        "    def __init__(self, model):\n",
        "        self.model = model\n",
        "        self.device = next(model.parameters()).device\n",
        "        self.gradients = None\n",
        "        self.activations = None\n",
        "\n",
        "    def _register_hooks(self):\n",
        "        def forward_hook(module, input, output):\n",
        "            self.activations = output\n",
        "\n",
        "        def backward_hook(module, grad_in, grad_out):\n",
        "            self.gradients = grad_out[0]\n",
        "\n",
        "        for name, module in self.model.named_modules():\n",
        "            if name == self.target_layer:\n",
        "                module.register_forward_hook(forward_hook)\n",
        "                module.register_backward_hook(backward_hook)\n",
        "\n",
        "    def generate_cam(self, input_tensor, target_layer, target_class=None):\n",
        "        self.target_layer = target_layer\n",
        "        self._register_hooks()\n",
        "\n",
        "        self.model.eval()\n",
        "        outputs = self.model(input_tensor)\n",
        "\n",
        "        if target_class is None:\n",
        "            target_class = outputs.argmax(dim=1).item()\n",
        "\n",
        "        self.model.zero_grad()\n",
        "        loss = outputs[:, target_class]\n",
        "        loss.backward()\n",
        "\n",
        "        gradients = self.gradients.cpu().data.numpy()\n",
        "        activations = self.activations.cpu().data.numpy()\n",
        "        weights = np.mean(gradients, axis=(2, 3))\n",
        "\n",
        "        cam = np.zeros(activations.shape[2:], dtype=np.float32)\n",
        "        for i, w in enumerate(weights[0]):\n",
        "            cam += w * activations[0, i, :, :]\n",
        "\n",
        "        cam = np.maximum(cam, 0)\n",
        "        cam = cam - np.min(cam)\n",
        "        cam = cam / np.max(cam) if np.max(cam) != 0 else cam\n",
        "\n",
        "        return cam\n",
        "\n",
        "    def visualize(self, img, target_layer, alpha=0.5, target_class=None):\n",
        "        img = img.unsqueeze(0)\n",
        "        img = img.to(self.device)\n",
        "        cam = self.generate_cam(img, target_layer, target_class)\n",
        "        img = img.squeeze().cpu().numpy()\n",
        "\n",
        "        cam = np.interp(cam, (cam.min(), cam.max()), (0, 1))\n",
        "        cam = np.uint8(cam * 255)\n",
        "\n",
        "        cmap = plt.get_cmap('magma')\n",
        "        heatmap = cmap(cam / 255.0)[:, :, :3]\n",
        "\n",
        "        heatmap = T.ToPILImage()(heatmap)\n",
        "        heatmap = heatmap.resize((img.shape[1], img.shape[0]))\n",
        "        heatmap = T.ToTensor()(heatmap).permute(1, 2, 0).numpy()\n",
        "\n",
        "        superimposed_img = (1 - alpha) * np.stack([img]*3, axis=-1) + alpha * heatmap\n",
        "\n",
        "        plt.figure(figsize=(10, 5))\n",
        "        plt.subplot(1, 3, 1)\n",
        "        plt.title(\"Original Image\")\n",
        "        plt.imshow(img, cmap='gray')\n",
        "        plt.axis(\"off\")\n",
        "\n",
        "        plt.subplot(1, 3, 2)\n",
        "        plt.title(\"Heatmap\")\n",
        "        plt.imshow(heatmap)\n",
        "        plt.axis(\"off\")\n",
        "\n",
        "        plt.subplot(1, 3, 3)\n",
        "        plt.title(\"Superimposed\")\n",
        "        plt.imshow(superimposed_img)\n",
        "        plt.axis(\"off\")\n",
        "\n",
        "        plt.show()"
      ],
      "metadata": {
        "id": "m26_AZ-nYsq8"
      },
      "execution_count": null,
      "outputs": []
    },
    {
      "cell_type": "markdown",
      "source": [
        "## Architecture\n",
        "![image](https://drive.google.com/uc?export=view&id=1h6bDJ-yRs8-gbhfE8TfGgbPXulMpbE1z)"
      ],
      "metadata": {
        "id": "xxf-hhbWMMPP"
      }
    },
    {
      "cell_type": "code",
      "source": [
        "# Training\n",
        "\n",
        "class SkipConnectedBlock(nn.Module):\n",
        "    def __init__(self, in_channels, mid_channels, out_channels):\n",
        "        super().__init__()\n",
        "\n",
        "        self.conv1 = nn.Conv2d(in_channels, mid_channels, kernel_size=3, stride=1, padding=1, bias=False)\n",
        "        self.bn1 = nn.BatchNorm2d(out_channels)\n",
        "        self.conv2 = nn.Conv2d(mid_channels, out_channels, kernel_size=3, stride=1, padding=1, bias=False)\n",
        "        self.bn2 = nn.BatchNorm2d(out_channels)\n",
        "\n",
        "        self.shortcut = nn.Sequential()\n",
        "        if in_channels != out_channels:\n",
        "            self.shortcut = nn.Sequential(\n",
        "                nn.Conv2d(in_channels, out_channels, kernel_size=1, stride=1, bias=False),\n",
        "                nn.BatchNorm2d(out_channels)\n",
        "            )\n",
        "\n",
        "    def forward(self, x):\n",
        "        identity = self.shortcut(x)\n",
        "        out = F.relu(self.bn1(self.conv1(x)))\n",
        "        out = self.bn2(self.conv2(out))\n",
        "        out += identity\n",
        "        return F.relu(out)\n",
        "\n",
        "\n",
        "class ResNet9(nn.Module):\n",
        "    def __init__(self, num_classes=10, num_color_channels=1):\n",
        "        super().__init__()\n",
        "        self.conv1 = nn.Conv2d(num_color_channels, 64, kernel_size=3, stride=1, padding=1, bias=False)\n",
        "        self.bn1 = nn.BatchNorm2d(64)\n",
        "        self.conv2 = nn.Conv2d(64, 128, kernel_size=3, stride=1, padding=1, bias=False)\n",
        "        self.bn2 = nn.BatchNorm2d(128)\n",
        "        self.pool = nn.MaxPool2d(2, 2)\n",
        "\n",
        "        self.resblock1 = SkipConnectedBlock(128, 128, 128)\n",
        "        self.resblock2 = SkipConnectedBlock(128, 256, 256)\n",
        "\n",
        "        self.conv3 = nn.Conv2d(256, 512, kernel_size=3, stride=2, padding=1, bias=False)\n",
        "        self.bn3 = nn.BatchNorm2d(512)\n",
        "\n",
        "        self.resblock3 = SkipConnectedBlock(512, 512, 512)\n",
        "\n",
        "        self.fc = nn.Linear(512, num_classes)\n",
        "\n",
        "    def forward(self, x):\n",
        "        x = F.relu(self.bn1(self.conv1(x)))\n",
        "        x = self.pool(F.relu(self.bn2(self.conv2(x))))\n",
        "        x = self.resblock1(x)\n",
        "        x = self.resblock2(x)\n",
        "        x = F.relu(self.bn3(self.conv3(x)))\n",
        "        x = self.resblock3(x)\n",
        "        x = F.adaptive_avg_pool2d(x, (1, 1))\n",
        "        x = torch.flatten(x, 1)\n",
        "        x = self.fc(x)\n",
        "        return x\n",
        "\n",
        "    def save(self, path):\n",
        "        torch.save(self.state_dict(), path)\n",
        "\n",
        "    def load(self, path):\n",
        "        self.load_state_dict(torch.load(path, weights_only=True))\n",
        "\n",
        "    def num_parameters(self):\n",
        "        print(f\"Total Params: {sum(p.numel() for p in self.parameters())} | Trainable Params: {sum(p.numel() for p in self.parameters() if p.requires_grad)}\")\n",
        "        return sum(p.numel() for p in self.parameters() if p.requires_grad)\n",
        "\n",
        "    def freeze(self, *layers):\n",
        "        if len(layers) == 0:\n",
        "            for param in self.parameters():\n",
        "                param.requires_grad = False\n",
        "        else:\n",
        "            for layer in layers:\n",
        "                for param in self.__getattr__(layer).parameters():\n",
        "                    param.requires_grad = False\n",
        "\n",
        "    def unfreeze(self, *layers):\n",
        "        for layer in layers:\n",
        "            for param in self.__getattr__(layer).parameters():\n",
        "                param.requires_grad = True"
      ],
      "metadata": {
        "id": "qI9nRKTsrXO_"
      },
      "execution_count": null,
      "outputs": []
    },
    {
      "cell_type": "code",
      "source": [
        "try_model = ResNet9(10)\n",
        "\n",
        "inputs = torch.rand(32, 1, 32, 32)\n",
        "outputs = try_model(inputs)\n",
        "outputs.shape # expected (32, 10)"
      ],
      "metadata": {
        "colab": {
          "base_uri": "https://localhost:8080/"
        },
        "id": "q6eWqsuxgdu_",
        "outputId": "e07d1758-2016-4f3c-9cc0-b4d16c32f081"
      },
      "execution_count": null,
      "outputs": [
        {
          "output_type": "execute_result",
          "data": {
            "text/plain": [
              "torch.Size([32, 10])"
            ]
          },
          "metadata": {},
          "execution_count": 8
        }
      ]
    },
    {
      "cell_type": "markdown",
      "source": [
        "## Training"
      ],
      "metadata": {
        "id": "eJg2ROoEMTwn"
      }
    },
    {
      "cell_type": "code",
      "source": [
        "def start_run(model, train_loader, val_loader, test_loader, criterion, optimizer, config, target_layer):\n",
        "    device = torch.device(config.train[\"device\"])\n",
        "    model = model.to(device)\n",
        "\n",
        "    num_epochs = config.train[\"num_epochs\"]\n",
        "    grad_clip = config.train[\"grad_clip\"]\n",
        "    grad_accumulation_steps = config.train[\"grad_accum_steps\"]\n",
        "    do_validation = config.train[\"do_validation\"]\n",
        "\n",
        "    print('Starting Training with the following configuration:')\n",
        "    print(config)\n",
        "\n",
        "    if config.logging['print_every'] != 0:\n",
        "        logger = MyLogger()\n",
        "\n",
        "    for epoch in range(num_epochs):\n",
        "        model.train()\n",
        "\n",
        "        running_loss = 0.0\n",
        "        correct = 0\n",
        "        total = 0\n",
        "\n",
        "        optimizer.zero_grad()\n",
        "        for step, (inputs, labels) in enumerate(tqdm(train_loader, desc=f\"Epoch: {epoch+1}/{num_epochs}\", leave=False), 1):\n",
        "            inputs, labels = inputs.to(device), labels.to(device)\n",
        "\n",
        "            outputs = model(inputs)\n",
        "            loss = criterion(outputs, labels)\n",
        "            loss = loss / grad_accumulation_steps\n",
        "\n",
        "            loss.backward()\n",
        "\n",
        "            if (step + 1) % grad_accumulation_steps == 0:\n",
        "                if grad_clip > 0:\n",
        "                    torch.nn.utils.clip_grad_norm_(model.parameters(), grad_clip)\n",
        "\n",
        "                optimizer.step()\n",
        "                optimizer.zero_grad()\n",
        "\n",
        "            running_loss += loss.item()\n",
        "            _, predicted = torch.max(outputs, 1)\n",
        "            correct += (predicted == labels).sum().item()\n",
        "            total += labels.size(0)\n",
        "\n",
        "        epoch_loss = running_loss / len(train_loader)\n",
        "        train_accuracy = correct / total\n",
        "\n",
        "        logdict = {\"epoch\": epoch+1, \"train_loss\": epoch_loss, \"train_accuracy\": train_accuracy}\n",
        "\n",
        "        if do_validation:\n",
        "            model.eval()\n",
        "            val_loss, val_accuracy = evaluate_model(model, val_loader, criterion, device)\n",
        "            print(f\"Validation Loss: {val_loss:.4f}, Validation Accuracy: {val_accuracy:.2f}%\")\n",
        "            logdict[\"val_loss\"] = val_loss\n",
        "            logdict[\"val_accuracy\"] = val_accuracy\n",
        "\n",
        "        if (epoch+1) % config.logging['print_every'] == 0:\n",
        "            logger.log_metrics(logdict)\n",
        "            gc = GradCAM(model)\n",
        "\n",
        "            random_batch_idx = random.randint(0, len(val_loader) - 1)\n",
        "            for idx, (images, labels) in enumerate(val_loader):\n",
        "                if idx == random_batch_idx:\n",
        "                    random_img_idx = random.randint(0, len(images) - 1)\n",
        "                    if target_layer is not None:\n",
        "                      gc.visualize(images[random_img_idx], target_layer, alpha=0.5, target_class=labels[random_img_idx].item())\n",
        "                    break\n",
        "\n",
        "    if config.logging[\"save_model\"]:\n",
        "        model_save_path = config.logging[\"model_save_path\"]\n",
        "        model.save(model_save_path)\n",
        "        print(f\"Model saved to {model_save_path}\")\n",
        "\n",
        "    print(f\"Test Accuracy: {evaluate_model(model, test_loader, criterion, device)[1]:.2%}\")\n",
        "\n",
        "    return model, logger\n",
        "\n",
        "def evaluate_model(model, dataloader, criterion, device):\n",
        "    model.eval()\n",
        "    model = model.to(device)\n",
        "    running_loss = 0.0\n",
        "    correct = 0\n",
        "    total = 0\n",
        "\n",
        "    with torch.no_grad():\n",
        "        for inputs, labels in tqdm(dataloader, leave=False):\n",
        "            inputs, labels = inputs.to(device), labels.to(device)\n",
        "\n",
        "            outputs = model(inputs)\n",
        "            loss = criterion(outputs, labels)\n",
        "            running_loss += loss.item()\n",
        "\n",
        "            _, predicted = torch.max(outputs, 1)\n",
        "            correct += (predicted == labels).sum().item()\n",
        "            total += labels.size(0)\n",
        "\n",
        "    loss = running_loss / len(dataloader)\n",
        "    accuracy = correct / total\n",
        "    return loss, accuracy"
      ],
      "metadata": {
        "id": "9nykIqbMszmj"
      },
      "execution_count": null,
      "outputs": []
    },
    {
      "cell_type": "markdown",
      "source": [
        "## MNIST\n",
        "\n",
        "Transforms:\n",
        "- Resize to (36, 36)\n",
        "- RandomCrop\n",
        "- Grayscale\n",
        "- RandomInvert (so model learns boundaries rather than empty space)"
      ],
      "metadata": {
        "id": "KM6M8UN9MYWY"
      }
    },
    {
      "cell_type": "code",
      "source": [
        "transforms = T.Compose([\n",
        "    T.Resize((36, 36)),\n",
        "    T.RandomCrop((32, 32)),\n",
        "    T.ToTensor(),\n",
        "    T.Grayscale(num_output_channels=1),\n",
        "    T.RandomInvert()\n",
        "])"
      ],
      "metadata": {
        "id": "nPLPR-aJrhL3"
      },
      "execution_count": null,
      "outputs": []
    },
    {
      "cell_type": "code",
      "source": [
        "train_n_val_dataset = torchvision.datasets.MNIST(root='./data/train', train=True, download=True, transform=transforms)\n",
        "test_dataset = torchvision.datasets.MNIST(root='./data/test', train=False, download=True, transform=transforms)\n",
        "\n",
        "train_dataset = Subset(train_n_val_dataset, range(50000))\n",
        "val_dataset = Subset(train_n_val_dataset, range(50000, len(train_n_val_dataset)))\n",
        "\n",
        "del train_n_val_dataset\n",
        "\n",
        "print(f\"Train size: {len(train_dataset)} | Val size: {len(val_dataset)} | Test size: {len(test_dataset)}\")"
      ],
      "metadata": {
        "colab": {
          "base_uri": "https://localhost:8080/"
        },
        "id": "hVsR-hi2YLZL",
        "outputId": "d2416908-e78c-4264-c3ef-1689fccd0cc9"
      },
      "execution_count": null,
      "outputs": [
        {
          "output_type": "stream",
          "name": "stdout",
          "text": [
            "Train size: 50000 | Val size: 10000 | Test size: 10000\n"
          ]
        }
      ]
    },
    {
      "cell_type": "code",
      "source": [
        "show_image_samples(test_dataset)\n",
        "print(\"Labels: \", set(test_dataset.targets.tolist()))"
      ],
      "metadata": {
        "colab": {
          "base_uri": "https://localhost:8080/",
          "height": 471
        },
        "id": "iyoUVYror0lt",
        "outputId": "1e10b8c3-65be-4ef3-cda6-6b46e928b3a6"
      },
      "execution_count": null,
      "outputs": [
        {
          "output_type": "stream",
          "name": "stdout",
          "text": [
            "Labels:  {0, 1, 2, 3, 4, 5, 6, 7, 8, 9}\n"
          ]
        },
        {
          "output_type": "display_data",
          "data": {
            "text/plain": [
              "<Figure size 640x480 with 9 Axes>"
            ],
            "image/png": "[encoded data removed]"
          },
          "metadata": {}
        }
      ]
    },
    {
      "cell_type": "code",
      "source": [
        "config = f\"\"\"\n",
        "train:\n",
        "  batch_size: 256\n",
        "  num_epochs: 5\n",
        "  learning_rate: 0.001\n",
        "  optimizer: \"adam\"\n",
        "  device: \"{(\"mps\" if torch.backends.mps.is_available() else (\"cuda\" if torch.cuda.is_available() else \"cpu\"))}\"\n",
        "  grad_clip: 0\n",
        "  grad_accum_steps: 1\n",
        "  do_validation: true\n",
        "\n",
        "model:\n",
        "  num_classes: 10  # 10 classes for MNIST\n",
        "\n",
        "logging:\n",
        "  print_every: 1\n",
        "  save_model: true\n",
        "  model_save_path: \"./trained/mnist.pth\"\n",
        "\"\"\"\n",
        "\n",
        "os.makedirs('configs/', exist_ok=True)\n",
        "os.makedirs('trained/', exist_ok=True)\n",
        "\n",
        "with open('configs/mnist_config.yaml', 'w') as f:\n",
        "  f.write(config)"
      ],
      "metadata": {
        "id": "W0sfDD42r1Dt"
      },
      "execution_count": null,
      "outputs": []
    },
    {
      "cell_type": "code",
      "source": [
        "config = RunConfig('configs/mnist_config.yaml')\n",
        "model = ResNet9(num_classes=config.model['num_classes'])\n",
        "\n",
        "_ = model.num_parameters()"
      ],
      "metadata": {
        "colab": {
          "base_uri": "https://localhost:8080/"
        },
        "id": "5iie7rOPr3xE",
        "outputId": "b6b26e75-d17b-447d-ff80-c4717813fbdf"
      },
      "execution_count": null,
      "outputs": [
        {
          "output_type": "stream",
          "name": "stdout",
          "text": [
            "Total Params: 7195594 | Trainable Params: 7195594\n"
          ]
        }
      ]
    },
    {
      "cell_type": "code",
      "source": [
        "train_loader = DataLoader(train_dataset, batch_size=config.train['batch_size'], shuffle=True)\n",
        "val_loader = DataLoader(test_dataset, batch_size=config.train['batch_size'], shuffle=False)\n",
        "test_loader = DataLoader(test_dataset, batch_size=config.train['batch_size'], shuffle=False)"
      ],
      "metadata": {
        "id": "8aV-6f1br6u4"
      },
      "execution_count": null,
      "outputs": []
    },
    {
      "cell_type": "code",
      "source": [
        "criterion = nn.CrossEntropyLoss()\n",
        "optimizer = optim.Adam(model.parameters(), lr=config.train[\"learning_rate\"])\n",
        "\n",
        "target_layer = 'resblock1.conv1'\n",
        "\n",
        "trained_model, logger = start_run(model, train_loader, val_loader, test_loader, criterion, optimizer, config, target_layer)\n",
        "logger.plot_run(keys=['train_loss', 'val_loss'])"
      ],
      "metadata": {
        "colab": {
          "base_uri": "https://localhost:8080/",
          "height": 1000
        },
        "id": "JUgQkxMjr8DR",
        "outputId": "74c3e27e-539d-4df0-b2e3-64ac8e819bb4"
      },
      "execution_count": null,
      "outputs": [
        {
          "output_type": "display_data",
          "data": {
            "text/plain": [
              "       train_loss  train_accuracy  val_loss  val_accuracy\n",
              "epoch                                                    \n",
              "1        0.395450         0.88890  0.179234        0.9424\n",
              "2        0.060205         0.98238  0.065676        0.9799\n",
              "3        0.042013         0.98772  0.066741        0.9787\n",
              "4        0.036423         0.98846  0.056441        0.9831\n",
              "5        0.030900         0.98998  0.068186        0.9765"
            ],
            "text/html": [
              "<div>\n",
              "<style scoped>\n",
              "    .dataframe tbody tr th:only-of-type {\n",
              "        vertical-align: middle;\n",
              "    }\n",
              "\n",
              "    .dataframe tbody tr th {\n",
              "        vertical-align: top;\n",
              "    }\n",
              "\n",
              "    .dataframe thead th {\n",
              "        text-align: right;\n",
              "    }\n",
              "</style>\n",
              "<table border=\"1\" class=\"dataframe\">\n",
              "  <thead>\n",
              "    <tr style=\"text-align: right;\">\n",
              "      <th></th>\n",
              "      <th>train_loss</th>\n",
              "      <th>train_accuracy</th>\n",
              "      <th>val_loss</th>\n",
              "      <th>val_accuracy</th>\n",
              "    </tr>\n",
              "    <tr>\n",
              "      <th>epoch</th>\n",
              "      <th></th>\n",
              "      <th></th>\n",
              "      <th></th>\n",
              "      <th></th>\n",
              "    </tr>\n",
              "  </thead>\n",
              "  <tbody>\n",
              "    <tr>\n",
              "      <th>1</th>\n",
              "      <td>0.395450</td>\n",
              "      <td>0.88890</td>\n",
              "      <td>0.179234</td>\n",
              "      <td>0.9424</td>\n",
              "    </tr>\n",
              "    <tr>\n",
              "      <th>2</th>\n",
              "      <td>0.060205</td>\n",
              "      <td>0.98238</td>\n",
              "      <td>0.065676</td>\n",
              "      <td>0.9799</td>\n",
              "    </tr>\n",
              "    <tr>\n",
              "      <th>3</th>\n",
              "      <td>0.042013</td>\n",
              "      <td>0.98772</td>\n",
              "      <td>0.066741</td>\n",
              "      <td>0.9787</td>\n",
              "    </tr>\n",
              "    <tr>\n",
              "      <th>4</th>\n",
              "      <td>0.036423</td>\n",
              "      <td>0.98846</td>\n",
              "      <td>0.056441</td>\n",
              "      <td>0.9831</td>\n",
              "    </tr>\n",
              "    <tr>\n",
              "      <th>5</th>\n",
              "      <td>0.030900</td>\n",
              "      <td>0.98998</td>\n",
              "      <td>0.068186</td>\n",
              "      <td>0.9765</td>\n",
              "    </tr>\n",
              "  </tbody>\n",
              "</table>\n",
              "</div>"
            ]
          },
          "metadata": {}
        },
        {
          "output_type": "stream",
          "name": "stderr",
          "text": [
            "/Users/irsh/Documents/workdir/ec69210/exp2/.venv/lib/python3.12/site-packages/torch/nn/modules/module.py:1827: FutureWarning: Using a non-full backward hook when the forward contains multiple autograd Nodes is deprecated and will be removed in future versions. This hook will be missing some grad_input. Please use register_full_backward_hook to get the documented behavior.\n",
            "  self._maybe_warn_non_full_backward_hook(args, result, grad_fn)\n"
          ]
        },
        {
          "output_type": "display_data",
          "data": {
            "text/plain": [
              "<Figure size 1000x500 with 3 Axes>"
            ],
            "image/png": "[encoded data removed]"
          },
          "metadata": {}
        },
        {
          "output_type": "stream",
          "name": "stdout",
          "text": [
            "Model saved to ./trained/mnist.pth\n"
          ]
        },
        {
          "output_type": "stream",
          "name": "stderr",
          "text": [
            "                                                                                                            "
          ]
        },
        {
          "output_type": "stream",
          "name": "stdout",
          "text": [
            "Test Accuracy: 97.63%\n"
          ]
        },
        {
          "output_type": "stream",
          "name": "stderr",
          "text": [
            "\r"
          ]
        },
        {
          "output_type": "display_data",
          "data": {
            "text/plain": [
              "<Figure size 640x480 with 1 Axes>"
            ],
            "image/png": "[encoded data removed]"
          },
          "metadata": {}
        }
      ]
    },
    {
      "cell_type": "markdown",
      "source": [
        "## TeluguMNIST"
      ],
      "metadata": {
        "id": "q_YRL0lBMkgX"
      }
    },
    {
      "cell_type": "code",
      "source": [
        "%%capture\n",
        "!unzip dataset.zip"
      ],
      "metadata": {
        "id": "UztzExVouQ0m"
      },
      "execution_count": null,
      "outputs": []
    },
    {
      "cell_type": "code",
      "source": [
        "class TeluguDataset(torch.utils.data.Dataset):\n",
        "    def __init__(self, root, transform=None, num_augmentations=1):\n",
        "        self.root = root\n",
        "        self.transform = transform\n",
        "        self.classes = os.listdir(root)\n",
        "        self.class_to_idx = {cls: i for i, cls in enumerate(self.classes)}\n",
        "        self.samples = []\n",
        "        self.targets = []\n",
        "        self.num_augmentations = num_augmentations\n",
        "\n",
        "        for cls in self.classes:\n",
        "            cls_dir = os.path.join(root, cls)\n",
        "            for img_name in os.listdir(cls_dir):\n",
        "                img_path = os.path.join(cls_dir, img_name)\n",
        "                self.samples.append((self._read_image(img_path), self.class_to_idx[cls]))\n",
        "                self.targets.append(cls)\n",
        "\n",
        "    def _read_image(self, img_path):\n",
        "        img = Image.open(img_path)\n",
        "        return img\n",
        "\n",
        "    def __len__(self):\n",
        "        return len(self.samples)*self.num_augmentations\n",
        "\n",
        "    def __getitem__(self, idx):\n",
        "        img, idx = self.samples[idx//self.num_augmentations]\n",
        "        if hasattr(self, \"transform\"):\n",
        "            img = self.transform(img)\n",
        "\n",
        "        return img, idx\n",
        "\n",
        "train_n_val_dataset = TeluguDataset(root='./dataset/train', transform=transforms, num_augmentations=3)\n",
        "test_dataset = TeluguDataset(root='./dataset/test', transform=transforms)\n",
        "\n",
        "train_dataset = Subset(train_n_val_dataset, range(len(train_n_val_dataset)-len(test_dataset)))\n",
        "val_dataset = Subset(train_n_val_dataset, range(len(train_n_val_dataset)-len(test_dataset), len(train_n_val_dataset)))\n",
        "\n",
        "del train_n_val_dataset\n",
        "\n",
        "print(f\"Train size: {len(train_dataset)} | Val size: {len(val_dataset)} | Test size: {len(test_dataset)}\")"
      ],
      "metadata": {
        "colab": {
          "base_uri": "https://localhost:8080/"
        },
        "id": "mIewt0sIs_i-",
        "outputId": "7d7a1c68-5501-4337-cc59-4c9068f1c81e"
      },
      "execution_count": null,
      "outputs": [
        {
          "output_type": "stream",
          "name": "stdout",
          "text": [
            "Train size: 3160 | Val size: 290 | Test size: 290\n"
          ]
        }
      ]
    },
    {
      "cell_type": "code",
      "source": [
        "class2idx = test_dataset.class_to_idx\n",
        "idx2class = {v: k for k, v in class2idx.items()}"
      ],
      "metadata": {
        "id": "l_9E5mBZuasr"
      },
      "execution_count": null,
      "outputs": []
    },
    {
      "cell_type": "code",
      "source": [
        "show_image_samples(test_dataset, idx2class)\n",
        "print(\"Labels: \", [class2idx[char] for char in set(test_dataset.targets)])"
      ],
      "metadata": {
        "colab": {
          "base_uri": "https://localhost:8080/",
          "height": 471
        },
        "id": "swM8HiV0udVo",
        "outputId": "516602c8-da22-45de-e953-b9a6999c4363"
      },
      "execution_count": null,
      "outputs": [
        {
          "output_type": "stream",
          "name": "stdout",
          "text": [
            "Labels:  [3, 5, 7, 0, 2, 1, 9, 4, 8, 6]\n"
          ]
        },
        {
          "output_type": "display_data",
          "data": {
            "text/plain": [
              "<Figure size 640x480 with 9 Axes>"
            ],
            "image/png": "[encoded data removed]"
          },
          "metadata": {}
        }
      ]
    },
    {
      "cell_type": "code",
      "source": [
        "config = f\"\"\"\n",
        "train:\n",
        "  batch_size: 128\n",
        "  num_epochs: 5\n",
        "  learning_rate: 0.001\n",
        "  optimizer: \"adam\"\n",
        "  device: \"{(\"mps\" if torch.backends.mps.is_available() else (\"cuda\" if torch.cuda.is_available() else \"cpu\"))}\"\n",
        "  grad_clip: 0\n",
        "  grad_accum_steps: 1\n",
        "  do_validation: true\n",
        "\n",
        "model:\n",
        "  num_classes: 10  # 10 classes for MNIST\n",
        "\n",
        "logging:\n",
        "  print_every: 1\n",
        "  save_model: true\n",
        "  model_save_path: \"./trained/telugu.pth\"\n",
        "\"\"\"\n",
        "\n",
        "os.makedirs('configs/', exist_ok=True)\n",
        "os.makedirs('trained/', exist_ok=True)\n",
        "\n",
        "with open('configs/telugu_config.yaml', 'w') as f:\n",
        "  f.write(config)"
      ],
      "metadata": {
        "id": "LyPChC5_ulnR"
      },
      "execution_count": null,
      "outputs": []
    },
    {
      "cell_type": "code",
      "source": [
        "config = RunConfig('configs/telugu_config.yaml')\n",
        "model = ResNet9(num_classes=config.model['num_classes'])\n",
        "\n",
        "_ = model.num_parameters()"
      ],
      "metadata": {
        "colab": {
          "base_uri": "https://localhost:8080/"
        },
        "id": "kBTVQYCcugkA",
        "outputId": "5f51734f-76b1-4232-b6b3-c56c7936e45e"
      },
      "execution_count": null,
      "outputs": [
        {
          "output_type": "stream",
          "name": "stdout",
          "text": [
            "Total Params: 7195594 | Trainable Params: 7195594\n"
          ]
        }
      ]
    },
    {
      "cell_type": "code",
      "source": [
        "train_loader = DataLoader(train_dataset, batch_size=config.train['batch_size'], shuffle=True)\n",
        "val_loader = DataLoader(test_dataset, batch_size=config.train['batch_size'], shuffle=False)\n",
        "test_loader = DataLoader(test_dataset, batch_size=config.train['batch_size'], shuffle=False)"
      ],
      "metadata": {
        "id": "R5m7wRXeunaw"
      },
      "execution_count": null,
      "outputs": []
    },
    {
      "cell_type": "code",
      "source": [
        "criterion = nn.CrossEntropyLoss()\n",
        "optimizer = optim.Adam(model.parameters(), lr=config.train[\"learning_rate\"])\n",
        "\n",
        "trained_model, logger = start_run(model, train_loader, val_loader, test_loader, criterion, optimizer, config, target_layer)\n",
        "logger.plot_run(keys=['train_loss', 'val_loss'])"
      ],
      "metadata": {
        "colab": {
          "base_uri": "https://localhost:8080/",
          "height": 705
        },
        "id": "aswEAhzoupzR",
        "outputId": "94c94994-6bca-4a77-87ba-013e4ed043a8"
      },
      "execution_count": null,
      "outputs": [
        {
          "output_type": "display_data",
          "data": {
            "text/plain": [
              "       train_loss  train_accuracy  val_loss  val_accuracy\n",
              "epoch                                                    \n",
              "1        0.520744        0.860759  2.237585      0.451724\n",
              "2        0.044531        0.990823  0.050710      0.996552\n",
              "3        0.017191        0.997468  0.036661      0.989655\n",
              "4        0.010721        0.998101  0.052714      0.986207\n",
              "5        0.006452        0.999051  0.017881      0.989655"
            ],
            "text/html": [
              "<div>\n",
              "<style scoped>\n",
              "    .dataframe tbody tr th:only-of-type {\n",
              "        vertical-align: middle;\n",
              "    }\n",
              "\n",
              "    .dataframe tbody tr th {\n",
              "        vertical-align: top;\n",
              "    }\n",
              "\n",
              "    .dataframe thead th {\n",
              "        text-align: right;\n",
              "    }\n",
              "</style>\n",
              "<table border=\"1\" class=\"dataframe\">\n",
              "  <thead>\n",
              "    <tr style=\"text-align: right;\">\n",
              "      <th></th>\n",
              "      <th>train_loss</th>\n",
              "      <th>train_accuracy</th>\n",
              "      <th>val_loss</th>\n",
              "      <th>val_accuracy</th>\n",
              "    </tr>\n",
              "    <tr>\n",
              "      <th>epoch</th>\n",
              "      <th></th>\n",
              "      <th></th>\n",
              "      <th></th>\n",
              "      <th></th>\n",
              "    </tr>\n",
              "  </thead>\n",
              "  <tbody>\n",
              "    <tr>\n",
              "      <th>1</th>\n",
              "      <td>0.520744</td>\n",
              "      <td>0.860759</td>\n",
              "      <td>2.237585</td>\n",
              "      <td>0.451724</td>\n",
              "    </tr>\n",
              "    <tr>\n",
              "      <th>2</th>\n",
              "      <td>0.044531</td>\n",
              "      <td>0.990823</td>\n",
              "      <td>0.050710</td>\n",
              "      <td>0.996552</td>\n",
              "    </tr>\n",
              "    <tr>\n",
              "      <th>3</th>\n",
              "      <td>0.017191</td>\n",
              "      <td>0.997468</td>\n",
              "      <td>0.036661</td>\n",
              "      <td>0.989655</td>\n",
              "    </tr>\n",
              "    <tr>\n",
              "      <th>4</th>\n",
              "      <td>0.010721</td>\n",
              "      <td>0.998101</td>\n",
              "      <td>0.052714</td>\n",
              "      <td>0.986207</td>\n",
              "    </tr>\n",
              "    <tr>\n",
              "      <th>5</th>\n",
              "      <td>0.006452</td>\n",
              "      <td>0.999051</td>\n",
              "      <td>0.017881</td>\n",
              "      <td>0.989655</td>\n",
              "    </tr>\n",
              "  </tbody>\n",
              "</table>\n",
              "</div>"
            ]
          },
          "metadata": {}
        },
        {
          "output_type": "stream",
          "name": "stdout",
          "text": [
            "Model saved to ./trained/telugu.pth\n"
          ]
        },
        {
          "output_type": "stream",
          "name": "stderr",
          "text": [
            "                                                                                                            "
          ]
        },
        {
          "output_type": "stream",
          "name": "stdout",
          "text": [
            "Test Accuracy: 99.66%\n"
          ]
        },
        {
          "output_type": "stream",
          "name": "stderr",
          "text": [
            "\r"
          ]
        },
        {
          "output_type": "display_data",
          "data": {
            "text/plain": [
              "<Figure size 640x480 with 1 Axes>"
            ],
            "image/png": "[encoded data removed]"
          },
          "metadata": {}
        }
      ]
    },
    {
      "cell_type": "markdown",
      "source": [
        "## Finetuning"
      ],
      "metadata": {
        "id": "q4eRhVEVSKV8"
      }
    },
    {
      "cell_type": "code",
      "source": [
        "model = ResNet9(10)\n",
        "model.load('trained/mnist.pth')\n",
        "\n",
        "model.freeze()\n",
        "model.unfreeze('fc')\n",
        "\n",
        "_ = model.num_parameters()"
      ],
      "metadata": {
        "id": "PTbAcHVy0t7J",
        "colab": {
          "base_uri": "https://localhost:8080/"
        },
        "outputId": "1475ee2d-d010-4d96-a069-30cdca3eee71"
      },
      "execution_count": null,
      "outputs": [
        {
          "output_type": "stream",
          "name": "stdout",
          "text": [
            "Total Params: 7195594 | Trainable Params: 5130\n"
          ]
        }
      ]
    },
    {
      "cell_type": "code",
      "source": [
        "config = f\"\"\"\n",
        "train:\n",
        "  batch_size: 128\n",
        "  num_epochs: 20\n",
        "  learning_rate: 0.001\n",
        "  optimizer: \"adam\"\n",
        "  device: \"{(\"mps\" if torch.backends.mps.is_available() else (\"cuda\" if torch.cuda.is_available() else \"cpu\"))}\"\n",
        "  grad_clip: 0\n",
        "  grad_accum_steps: 1\n",
        "  do_validation: true\n",
        "\n",
        "model:\n",
        "  num_classes: 10  # 10 classes for MNIST\n",
        "\n",
        "logging:\n",
        "  print_every: 1\n",
        "  save_model: true\n",
        "  model_save_path: \"./trained/finetuned.pth\"\n",
        "\"\"\"\n",
        "\n",
        "os.makedirs('configs/', exist_ok=True)\n",
        "os.makedirs('trained/', exist_ok=True)\n",
        "\n",
        "with open('configs/finetuning_config.yaml', 'w') as f:\n",
        "  f.write(config)\n",
        "\n",
        "config = RunConfig('configs/finetuning_config.yaml')"
      ],
      "metadata": {
        "id": "rXYqwsEgSiiW"
      },
      "execution_count": null,
      "outputs": []
    },
    {
      "cell_type": "code",
      "source": [
        "criterion = nn.CrossEntropyLoss()\n",
        "optimizer = optim.Adam(model.parameters(), lr=config.train[\"learning_rate\"])\n",
        "\n",
        "target_layer = None\n",
        "\n",
        "trained_model, logger = start_run(model, train_loader, val_loader, test_loader, criterion, optimizer, config, target_layer)\n",
        "logger.plot_run(keys=['train_loss', 'val_loss'])"
      ],
      "metadata": {
        "colab": {
          "base_uri": "https://localhost:8080/",
          "height": 1000
        },
        "id": "IDWtbiaoSdK4",
        "outputId": "34cdbeb1-0a4e-4c1e-9bd5-2f21b36c2c29"
      },
      "execution_count": null,
      "outputs": [
        {
          "output_type": "display_data",
          "data": {
            "text/plain": [
              "       train_loss  train_accuracy  val_loss  val_accuracy\n",
              "epoch                                                    \n",
              "1        2.257599        0.146519  3.458873      0.100000\n",
              "2        2.056324        0.212342  3.111265      0.100000\n",
              "3        1.981453        0.283228  2.374217      0.237931\n",
              "4        1.900365        0.324051  2.447764      0.396552\n",
              "5        1.848633        0.361392  2.436183      0.351724\n",
              "6        1.802392        0.393987  2.382315      0.400000\n",
              "7        1.754372        0.428797  2.313620      0.372414\n",
              "8        1.722386        0.432278  2.169305      0.424138\n",
              "9        1.695656        0.477215  2.143418      0.465517\n",
              "10       1.651295        0.499051  2.115330      0.493103\n",
              "11       1.629543        0.489557  2.091561      0.462069\n",
              "12       1.588174        0.520570  2.149325      0.424138\n",
              "13       1.574354        0.518354  2.159144      0.451724\n",
              "14       1.556508        0.534810  2.069167      0.465517\n",
              "15       1.535422        0.534494  1.986051      0.517241\n",
              "16       1.524036        0.526899  2.093961      0.534483\n",
              "17       1.484662        0.563291  2.009798      0.520690\n",
              "18       1.469689        0.572468  2.141274      0.572414\n",
              "19       1.455107        0.564557  1.824806      0.541379\n",
              "20       1.436495        0.562025  1.987530      0.493103"
            ],
            "text/html": [
              "<div>\n",
              "<style scoped>\n",
              "    .dataframe tbody tr th:only-of-type {\n",
              "        vertical-align: middle;\n",
              "    }\n",
              "\n",
              "    .dataframe tbody tr th {\n",
              "        vertical-align: top;\n",
              "    }\n",
              "\n",
              "    .dataframe thead th {\n",
              "        text-align: right;\n",
              "    }\n",
              "</style>\n",
              "<table border=\"1\" class=\"dataframe\">\n",
              "  <thead>\n",
              "    <tr style=\"text-align: right;\">\n",
              "      <th></th>\n",
              "      <th>train_loss</th>\n",
              "      <th>train_accuracy</th>\n",
              "      <th>val_loss</th>\n",
              "      <th>val_accuracy</th>\n",
              "    </tr>\n",
              "    <tr>\n",
              "      <th>epoch</th>\n",
              "      <th></th>\n",
              "      <th></th>\n",
              "      <th></th>\n",
              "      <th></th>\n",
              "    </tr>\n",
              "  </thead>\n",
              "  <tbody>\n",
              "    <tr>\n",
              "      <th>1</th>\n",
              "      <td>2.257599</td>\n",
              "      <td>0.146519</td>\n",
              "      <td>3.458873</td>\n",
              "      <td>0.100000</td>\n",
              "    </tr>\n",
              "    <tr>\n",
              "      <th>2</th>\n",
              "      <td>2.056324</td>\n",
              "      <td>0.212342</td>\n",
              "      <td>3.111265</td>\n",
              "      <td>0.100000</td>\n",
              "    </tr>\n",
              "    <tr>\n",
              "      <th>3</th>\n",
              "      <td>1.981453</td>\n",
              "      <td>0.283228</td>\n",
              "      <td>2.374217</td>\n",
              "      <td>0.237931</td>\n",
              "    </tr>\n",
              "    <tr>\n",
              "      <th>4</th>\n",
              "      <td>1.900365</td>\n",
              "      <td>0.324051</td>\n",
              "      <td>2.447764</td>\n",
              "      <td>0.396552</td>\n",
              "    </tr>\n",
              "    <tr>\n",
              "      <th>5</th>\n",
              "      <td>1.848633</td>\n",
              "      <td>0.361392</td>\n",
              "      <td>2.436183</td>\n",
              "      <td>0.351724</td>\n",
              "    </tr>\n",
              "    <tr>\n",
              "      <th>6</th>\n",
              "      <td>1.802392</td>\n",
              "      <td>0.393987</td>\n",
              "      <td>2.382315</td>\n",
              "      <td>0.400000</td>\n",
              "    </tr>\n",
              "    <tr>\n",
              "      <th>7</th>\n",
              "      <td>1.754372</td>\n",
              "      <td>0.428797</td>\n",
              "      <td>2.313620</td>\n",
              "      <td>0.372414</td>\n",
              "    </tr>\n",
              "    <tr>\n",
              "      <th>8</th>\n",
              "      <td>1.722386</td>\n",
              "      <td>0.432278</td>\n",
              "      <td>2.169305</td>\n",
              "      <td>0.424138</td>\n",
              "    </tr>\n",
              "    <tr>\n",
              "      <th>9</th>\n",
              "      <td>1.695656</td>\n",
              "      <td>0.477215</td>\n",
              "      <td>2.143418</td>\n",
              "      <td>0.465517</td>\n",
              "    </tr>\n",
              "    <tr>\n",
              "      <th>10</th>\n",
              "      <td>1.651295</td>\n",
              "      <td>0.499051</td>\n",
              "      <td>2.115330</td>\n",
              "      <td>0.493103</td>\n",
              "    </tr>\n",
              "    <tr>\n",
              "      <th>11</th>\n",
              "      <td>1.629543</td>\n",
              "      <td>0.489557</td>\n",
              "      <td>2.091561</td>\n",
              "      <td>0.462069</td>\n",
              "    </tr>\n",
              "    <tr>\n",
              "      <th>12</th>\n",
              "      <td>1.588174</td>\n",
              "      <td>0.520570</td>\n",
              "      <td>2.149325</td>\n",
              "      <td>0.424138</td>\n",
              "    </tr>\n",
              "    <tr>\n",
              "      <th>13</th>\n",
              "      <td>1.574354</td>\n",
              "      <td>0.518354</td>\n",
              "      <td>2.159144</td>\n",
              "      <td>0.451724</td>\n",
              "    </tr>\n",
              "    <tr>\n",
              "      <th>14</th>\n",
              "      <td>1.556508</td>\n",
              "      <td>0.534810</td>\n",
              "      <td>2.069167</td>\n",
              "      <td>0.465517</td>\n",
              "    </tr>\n",
              "    <tr>\n",
              "      <th>15</th>\n",
              "      <td>1.535422</td>\n",
              "      <td>0.534494</td>\n",
              "      <td>1.986051</td>\n",
              "      <td>0.517241</td>\n",
              "    </tr>\n",
              "    <tr>\n",
              "      <th>16</th>\n",
              "      <td>1.524036</td>\n",
              "      <td>0.526899</td>\n",
              "      <td>2.093961</td>\n",
              "      <td>0.534483</td>\n",
              "    </tr>\n",
              "    <tr>\n",
              "      <th>17</th>\n",
              "      <td>1.484662</td>\n",
              "      <td>0.563291</td>\n",
              "      <td>2.009798</td>\n",
              "      <td>0.520690</td>\n",
              "    </tr>\n",
              "    <tr>\n",
              "      <th>18</th>\n",
              "      <td>1.469689</td>\n",
              "      <td>0.572468</td>\n",
              "      <td>2.141274</td>\n",
              "      <td>0.572414</td>\n",
              "    </tr>\n",
              "    <tr>\n",
              "      <th>19</th>\n",
              "      <td>1.455107</td>\n",
              "      <td>0.564557</td>\n",
              "      <td>1.824806</td>\n",
              "      <td>0.541379</td>\n",
              "    </tr>\n",
              "    <tr>\n",
              "      <th>20</th>\n",
              "      <td>1.436495</td>\n",
              "      <td>0.562025</td>\n",
              "      <td>1.987530</td>\n",
              "      <td>0.493103</td>\n",
              "    </tr>\n",
              "  </tbody>\n",
              "</table>\n",
              "</div>"
            ]
          },
          "metadata": {}
        },
        {
          "output_type": "stream",
          "name": "stdout",
          "text": [
            "Model saved to ./trained/finetuned.pth\n"
          ]
        },
        {
          "output_type": "stream",
          "name": "stderr",
          "text": []
        },
        {
          "output_type": "stream",
          "name": "stdout",
          "text": [
            "Test Accuracy: 52.76%\n"
          ]
        },
        {
          "output_type": "display_data",
          "data": {
            "text/plain": [
              "<Figure size 640x480 with 1 Axes>"
            ],
            "image/png": "[encoded data removed]"
          },
          "metadata": {}
        }
      ]
    },
    {
      "cell_type": "markdown",
      "source": [
        "## Hindi Dataset Preparation"
      ],
      "metadata": {
        "id": "YBMavXDWnUgQ"
      }
    },
    {
      "cell_type": "code",
      "source": [
        "!gdown 1wEeKeFsH8YKRANENVg98kMX_yIf1CnU7"
      ],
      "metadata": {
        "colab": {
          "base_uri": "https://localhost:8080/"
        },
        "id": "5hr1MQnHrP1G",
        "outputId": "a2cb37cc-6f0a-4bb4-d855-ab0b12513174"
      },
      "execution_count": null,
      "outputs": [
        {
          "output_type": "stream",
          "name": "stdout",
          "text": [
            "Downloading...\r\n",
            "From: https://drive.google.com/uc?id=1wEeKeFsH8YKRANENVg98kMX_yIf1CnU7\r\n",
            "To: /Users/irsh/Documents/workdir/ec69210/exp2/hindi_char_grid.jpg\n",
            "100%|████████████████████████████████████████| 245k/245k [00:00<00:00, 1.16MB/s]\n"
          ]
        }
      ]
    },
    {
      "cell_type": "code",
      "source": [
        "img = np.array(Image.open('hindi_char_grid.jpg').convert('L').resize((810, 540)))\n",
        "height, width = img.shape\n",
        "\n",
        "n_rows = 18\n",
        "n_cols = 27\n",
        "\n",
        "imgs = [[] for i in range(0, height, height//n_rows)]\n",
        "\n",
        "for idx, i in enumerate(range(0, height, height//n_rows)):\n",
        "    for j in range(0, width, width//n_cols):\n",
        "        imgs[idx].append(img[i: i+height//n_rows, j: j+width//n_cols])"
      ],
      "metadata": {
        "id": "5aCvs8RYSsUp"
      },
      "execution_count": null,
      "outputs": []
    },
    {
      "cell_type": "code",
      "source": [
        "idx_mapping = [0, 0, 1, 1, 2, 2, 3, 3, 4, 5, 5, 6, 6, 7, 7, 8, 8, 9]\n",
        "\n",
        "save_path = 'hindi_ds/'\n",
        "\n",
        "os.makedirs(save_path, exist_ok=True)\n",
        "for idx in idx_mapping:\n",
        "    os.makedirs(save_path+\"train/\"+str(idx), exist_ok=True)\n",
        "    os.makedirs(save_path+\"test/\"+str(idx), exist_ok=True)\n",
        "\n",
        "for i in range(len(imgs)):\n",
        "    for j in range(len(imgs[0])):\n",
        "        if j < len(imgs[0]) * 0.85:\n",
        "          Image.fromarray(imgs[i][j]).save(save_path+f\"train/{idx_mapping[i]}/image_{j}.jpg\")\n",
        "        else:\n",
        "          Image.fromarray(imgs[i][j]).save(save_path+f\"test/{idx_mapping[i]}/image_{j}.jpg\")"
      ],
      "metadata": {
        "id": "o85-fsQTooIO"
      },
      "execution_count": null,
      "outputs": []
    },
    {
      "cell_type": "code",
      "source": [
        "train_n_val_dataset = TeluguDataset(root='./hindi_ds/train', transform=transforms, num_augmentations=5)\n",
        "test_dataset = TeluguDataset(root='./hindi_ds/test', transform=transforms)\n",
        "\n",
        "train_dataset = Subset(train_n_val_dataset, range(len(train_n_val_dataset)-len(test_dataset)))\n",
        "val_dataset = Subset(train_n_val_dataset, range(len(train_n_val_dataset)-len(test_dataset), len(train_n_val_dataset)))\n",
        "\n",
        "del train_n_val_dataset\n",
        "\n",
        "print(f\"Train size: {len(train_dataset)} | Val size: {len(val_dataset)} | Test size: {len(test_dataset)}\")"
      ],
      "metadata": {
        "colab": {
          "base_uri": "https://localhost:8080/"
        },
        "id": "X2HdFmYTqtlq",
        "outputId": "f9fffe93-41af-4f20-8c36-fc86625cfa07"
      },
      "execution_count": null,
      "outputs": [
        {
          "output_type": "stream",
          "name": "stdout",
          "text": [
            "Train size: 1070 | Val size: 80 | Test size: 80\n"
          ]
        }
      ]
    },
    {
      "cell_type": "code",
      "source": [
        "class2idx = test_dataset.class_to_idx\n",
        "idx2class = {v: k for k, v in class2idx.items()}"
      ],
      "metadata": {
        "id": "7azTr5dQoaLz"
      },
      "execution_count": null,
      "outputs": []
    },
    {
      "cell_type": "code",
      "source": [
        "show_image_samples(test_dataset, idx2class)\n",
        "print(\"Labels: \", [class2idx[char] for char in set(test_dataset.targets)])"
      ],
      "metadata": {
        "id": "O9BYm9AIrud6",
        "colab": {
          "base_uri": "https://localhost:8080/",
          "height": 471
        },
        "outputId": "cc1969d4-2870-41f1-f392-9f499d3562ea"
      },
      "execution_count": null,
      "outputs": [
        {
          "output_type": "stream",
          "name": "stdout",
          "text": [
            "Labels:  [2, 7, 0, 4, 3, 5, 1, 8, 9, 6]\n"
          ]
        },
        {
          "output_type": "display_data",
          "data": {
            "text/plain": [
              "<Figure size 640x480 with 9 Axes>"
            ],
            "image/png": "[encoded data removed]"
          },
          "metadata": {}
        }
      ]
    },
    {
      "cell_type": "code",
      "source": [
        "config = f\"\"\"\n",
        "train:\n",
        "  batch_size: 128\n",
        "  num_epochs: 20\n",
        "  learning_rate: 0.0001\n",
        "  optimizer: \"adam\"\n",
        "  device: \"{(\"mps\" if torch.backends.mps.is_available() else (\"cuda\" if torch.cuda.is_available() else \"cpu\"))}\"\n",
        "  grad_clip: 0\n",
        "  grad_accum_steps: 1\n",
        "  do_validation: true\n",
        "\n",
        "model:\n",
        "  num_classes: 10  # 10 classes for MNIST\n",
        "\n",
        "logging:\n",
        "  print_every: 1\n",
        "  save_model: true\n",
        "  model_save_path: \"./trained/hindi.pth\"\n",
        "\"\"\"\n",
        "\n",
        "os.makedirs('configs/', exist_ok=True)\n",
        "os.makedirs('trained/', exist_ok=True)\n",
        "\n",
        "with open('configs/hindi_config.yaml', 'w') as f:\n",
        "  f.write(config)"
      ],
      "metadata": {
        "id": "tIPgLhYLobUA"
      },
      "execution_count": null,
      "outputs": []
    },
    {
      "cell_type": "code",
      "source": [
        "config = RunConfig('configs/hindi_config.yaml')\n",
        "model = ResNet9(num_classes=config.model['num_classes'])\n",
        "\n",
        "_ = model.num_parameters()"
      ],
      "metadata": {
        "colab": {
          "base_uri": "https://localhost:8080/"
        },
        "id": "WJJfHylnoofN",
        "outputId": "3c4271ed-7902-4291-aec1-71af09a38668"
      },
      "execution_count": null,
      "outputs": [
        {
          "output_type": "stream",
          "name": "stdout",
          "text": [
            "Total Params: 7195594 | Trainable Params: 7195594\n"
          ]
        }
      ]
    },
    {
      "cell_type": "code",
      "source": [
        "train_loader = DataLoader(train_dataset, batch_size=config.train['batch_size'], shuffle=True)\n",
        "val_loader = DataLoader(test_dataset, batch_size=config.train['batch_size'], shuffle=False)\n",
        "test_loader = DataLoader(test_dataset, batch_size=config.train['batch_size'], shuffle=False)"
      ],
      "metadata": {
        "id": "UdN6eLStoxFc"
      },
      "execution_count": null,
      "outputs": []
    },
    {
      "cell_type": "code",
      "source": [
        "criterion = nn.CrossEntropyLoss()\n",
        "optimizer = optim.Adam(model.parameters(), lr=config.train[\"learning_rate\"])\n",
        "\n",
        "target_layer = 'resblock1.conv2'\n",
        "\n",
        "trained_model, logger = start_run(model, train_loader, val_loader, test_loader, criterion, optimizer, config, target_layer)\n",
        "logger.plot_run(keys=['train_loss', 'val_loss'])"
      ],
      "metadata": {
        "colab": {
          "base_uri": "https://localhost:8080/",
          "height": 1000
        },
        "id": "TrSDtVq7olfz",
        "outputId": "d908c670-6316-4f89-dcfd-ae447edf9014"
      },
      "execution_count": null,
      "outputs": [
        {
          "output_type": "display_data",
          "data": {
            "text/plain": [
              "       train_loss  train_accuracy  val_loss  val_accuracy\n",
              "epoch                                                    \n",
              "1        1.891597        0.374766  2.476849        0.1000\n",
              "2        1.166339        0.700000  3.431585        0.1000\n",
              "3        0.757796        0.814019  4.135134        0.1000\n",
              "4        0.478827        0.893458  3.189207        0.1750\n",
              "5        0.287203        0.957009  2.276021        0.2250\n",
              "6        0.209403        0.969159  0.748263        0.7875\n",
              "7        0.152927        0.981308  0.544382        0.8000\n",
              "8        0.118201        0.988785  0.877586        0.7500\n",
              "9        0.100188        0.988785  0.401680        0.8750\n",
              "10       0.079633        0.993458  0.932438        0.7250\n",
              "11       0.062120        0.994393  0.229487        0.9250\n",
              "12       0.048749        0.997196  0.313953        0.8875\n",
              "13       0.040813        0.998131  0.273077        0.9375\n",
              "14       0.028343        1.000000  0.237495        0.9125\n",
              "15       0.024755        1.000000  0.253165        0.9000\n",
              "16       0.024588        1.000000  0.138992        0.9500\n",
              "17       0.020833        1.000000  0.124812        0.9625\n",
              "18       0.022634        0.998131  1.364443        0.5625\n",
              "19       0.023725        0.998131  0.350528        0.8750\n",
              "20       0.020905        1.000000  0.138905        0.9500"
            ],
            "text/html": [
              "<div>\n",
              "<style scoped>\n",
              "    .dataframe tbody tr th:only-of-type {\n",
              "        vertical-align: middle;\n",
              "    }\n",
              "\n",
              "    .dataframe tbody tr th {\n",
              "        vertical-align: top;\n",
              "    }\n",
              "\n",
              "    .dataframe thead th {\n",
              "        text-align: right;\n",
              "    }\n",
              "</style>\n",
              "<table border=\"1\" class=\"dataframe\">\n",
              "  <thead>\n",
              "    <tr style=\"text-align: right;\">\n",
              "      <th></th>\n",
              "      <th>train_loss</th>\n",
              "      <th>train_accuracy</th>\n",
              "      <th>val_loss</th>\n",
              "      <th>val_accuracy</th>\n",
              "    </tr>\n",
              "    <tr>\n",
              "      <th>epoch</th>\n",
              "      <th></th>\n",
              "      <th></th>\n",
              "      <th></th>\n",
              "      <th></th>\n",
              "    </tr>\n",
              "  </thead>\n",
              "  <tbody>\n",
              "    <tr>\n",
              "      <th>1</th>\n",
              "      <td>1.891597</td>\n",
              "      <td>0.374766</td>\n",
              "      <td>2.476849</td>\n",
              "      <td>0.1000</td>\n",
              "    </tr>\n",
              "    <tr>\n",
              "      <th>2</th>\n",
              "      <td>1.166339</td>\n",
              "      <td>0.700000</td>\n",
              "      <td>3.431585</td>\n",
              "      <td>0.1000</td>\n",
              "    </tr>\n",
              "    <tr>\n",
              "      <th>3</th>\n",
              "      <td>0.757796</td>\n",
              "      <td>0.814019</td>\n",
              "      <td>4.135134</td>\n",
              "      <td>0.1000</td>\n",
              "    </tr>\n",
              "    <tr>\n",
              "      <th>4</th>\n",
              "      <td>0.478827</td>\n",
              "      <td>0.893458</td>\n",
              "      <td>3.189207</td>\n",
              "      <td>0.1750</td>\n",
              "    </tr>\n",
              "    <tr>\n",
              "      <th>5</th>\n",
              "      <td>0.287203</td>\n",
              "      <td>0.957009</td>\n",
              "      <td>2.276021</td>\n",
              "      <td>0.2250</td>\n",
              "    </tr>\n",
              "    <tr>\n",
              "      <th>6</th>\n",
              "      <td>0.209403</td>\n",
              "      <td>0.969159</td>\n",
              "      <td>0.748263</td>\n",
              "      <td>0.7875</td>\n",
              "    </tr>\n",
              "    <tr>\n",
              "      <th>7</th>\n",
              "      <td>0.152927</td>\n",
              "      <td>0.981308</td>\n",
              "      <td>0.544382</td>\n",
              "      <td>0.8000</td>\n",
              "    </tr>\n",
              "    <tr>\n",
              "      <th>8</th>\n",
              "      <td>0.118201</td>\n",
              "      <td>0.988785</td>\n",
              "      <td>0.877586</td>\n",
              "      <td>0.7500</td>\n",
              "    </tr>\n",
              "    <tr>\n",
              "      <th>9</th>\n",
              "      <td>0.100188</td>\n",
              "      <td>0.988785</td>\n",
              "      <td>0.401680</td>\n",
              "      <td>0.8750</td>\n",
              "    </tr>\n",
              "    <tr>\n",
              "      <th>10</th>\n",
              "      <td>0.079633</td>\n",
              "      <td>0.993458</td>\n",
              "      <td>0.932438</td>\n",
              "      <td>0.7250</td>\n",
              "    </tr>\n",
              "    <tr>\n",
              "      <th>11</th>\n",
              "      <td>0.062120</td>\n",
              "      <td>0.994393</td>\n",
              "      <td>0.229487</td>\n",
              "      <td>0.9250</td>\n",
              "    </tr>\n",
              "    <tr>\n",
              "      <th>12</th>\n",
              "      <td>0.048749</td>\n",
              "      <td>0.997196</td>\n",
              "      <td>0.313953</td>\n",
              "      <td>0.8875</td>\n",
              "    </tr>\n",
              "    <tr>\n",
              "      <th>13</th>\n",
              "      <td>0.040813</td>\n",
              "      <td>0.998131</td>\n",
              "      <td>0.273077</td>\n",
              "      <td>0.9375</td>\n",
              "    </tr>\n",
              "    <tr>\n",
              "      <th>14</th>\n",
              "      <td>0.028343</td>\n",
              "      <td>1.000000</td>\n",
              "      <td>0.237495</td>\n",
              "      <td>0.9125</td>\n",
              "    </tr>\n",
              "    <tr>\n",
              "      <th>15</th>\n",
              "      <td>0.024755</td>\n",
              "      <td>1.000000</td>\n",
              "      <td>0.253165</td>\n",
              "      <td>0.9000</td>\n",
              "    </tr>\n",
              "    <tr>\n",
              "      <th>16</th>\n",
              "      <td>0.024588</td>\n",
              "      <td>1.000000</td>\n",
              "      <td>0.138992</td>\n",
              "      <td>0.9500</td>\n",
              "    </tr>\n",
              "    <tr>\n",
              "      <th>17</th>\n",
              "      <td>0.020833</td>\n",
              "      <td>1.000000</td>\n",
              "      <td>0.124812</td>\n",
              "      <td>0.9625</td>\n",
              "    </tr>\n",
              "    <tr>\n",
              "      <th>18</th>\n",
              "      <td>0.022634</td>\n",
              "      <td>0.998131</td>\n",
              "      <td>1.364443</td>\n",
              "      <td>0.5625</td>\n",
              "    </tr>\n",
              "    <tr>\n",
              "      <th>19</th>\n",
              "      <td>0.023725</td>\n",
              "      <td>0.998131</td>\n",
              "      <td>0.350528</td>\n",
              "      <td>0.8750</td>\n",
              "    </tr>\n",
              "    <tr>\n",
              "      <th>20</th>\n",
              "      <td>0.020905</td>\n",
              "      <td>1.000000</td>\n",
              "      <td>0.138905</td>\n",
              "      <td>0.9500</td>\n",
              "    </tr>\n",
              "  </tbody>\n",
              "</table>\n",
              "</div>"
            ]
          },
          "metadata": {}
        },
        {
          "output_type": "stream",
          "name": "stderr",
          "text": [
            "/Users/irsh/Documents/workdir/ec69210/exp2/.venv/lib/python3.12/site-packages/torch/nn/modules/module.py:1827: FutureWarning: Using a non-full backward hook when the forward contains multiple autograd Nodes is deprecated and will be removed in future versions. This hook will be missing some grad_input. Please use register_full_backward_hook to get the documented behavior.\n",
            "  self._maybe_warn_non_full_backward_hook(args, result, grad_fn)\n"
          ]
        },
        {
          "output_type": "display_data",
          "data": {
            "text/plain": [
              "<Figure size 1000x500 with 3 Axes>"
            ],
            "image/png": "[encoded data removed]"
          },
          "metadata": {}
        },
        {
          "output_type": "stream",
          "name": "stdout",
          "text": [
            "Model saved to ./trained/hindi.pth\n"
          ]
        },
        {
          "output_type": "stream",
          "name": "stderr",
          "text": []
        },
        {
          "output_type": "stream",
          "name": "stdout",
          "text": [
            "Test Accuracy: 92.50%\n"
          ]
        },
        {
          "output_type": "display_data",
          "data": {
            "text/plain": [
              "<Figure size 640x480 with 1 Axes>"
            ],
            "image/png": "[encoded data removed]"
          },
          "metadata": {}
        }
      ]
    },
    {
      "cell_type": "code",
      "source": [],
      "metadata": {
        "id": "KW0O_kOGo02f"
      },
      "execution_count": null,
      "outputs": []
    }
  ]
}